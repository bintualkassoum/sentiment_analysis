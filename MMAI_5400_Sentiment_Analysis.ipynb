{
  "nbformat": 4,
  "nbformat_minor": 0,
  "metadata": {
    "colab": {
      "name": "MMAI 5400 Sentiment Analysis",
      "provenance": [],
      "collapsed_sections": [],
      "toc_visible": true,
      "authorship_tag": "ABX9TyMu50VUD0TCHZFnuZYqvyPC",
      "include_colab_link": true
    },
    "kernelspec": {
      "name": "python3",
      "display_name": "Python 3"
    },
    "language_info": {
      "name": "python"
    }
  },
  "cells": [
    {
      "cell_type": "markdown",
      "metadata": {
        "id": "view-in-github",
        "colab_type": "text"
      },
      "source": [
        "<a href=\"https://colab.research.google.com/github/bintualkassoum/sentiment_analysis/blob/main/MMAI_5400_Sentiment_Analysis.ipynb\" target=\"_parent\"><img src=\"https://colab.research.google.com/assets/colab-badge.svg\" alt=\"Open In Colab\"/></a>"
      ]
    },
    {
      "cell_type": "markdown",
      "source": [
        "# MMAI 5400 Assignment 2 -- Sentiment Classification 💬\n",
        "## Project Information\n",
        "For this assignment you will build a sentiment classifier to classify restaurant reviews."
      ],
      "metadata": {
        "id": "-XRLqp11ji26"
      }
    },
    {
      "cell_type": "markdown",
      "source": [
        "## Submission\n",
        "This assignment should be submitted as Python 3 code and uploaded to Canvas. The submission should be a single PY file,\n",
        "and not a Jupyter Notebook. The due date is on June 20 at 8:30 am.\n",
        "The code will be tested and should produce the output specified below."
      ],
      "metadata": {
        "id": "9T0coyw3jis_"
      }
    },
    {
      "cell_type": "markdown",
      "source": [
        "## Data\n",
        "You will be using a the file reviews.csv that contains close to 2000 reviews. Values in reviews.csv are tab separated instead\n",
        "of comma separated as if often the case in CSV files. To read reviews.csv with pandas it might be good to specify tab as the\n",
        "delimiter, as follows:\n",
        "```\n",
        "data = pd.read_csv('reviews.csv', delimiter='\\t')\n",
        "```"
      ],
      "metadata": {
        "id": "Auf4oej6jipm"
      }
    },
    {
      "cell_type": "markdown",
      "source": [
        "# Install Packages and Dependencies 📚"
      ],
      "metadata": {
        "id": "a1sbVC57yRJe"
      }
    },
    {
      "cell_type": "code",
      "source": [
        "# Install the PyDrive wrapper & import libraries\n",
        "# This only needs to be done once per notebook\n",
        "!pip install -U -q PyDrive\n",
        "from pydrive.auth import GoogleAuth\n",
        "from pydrive.drive import GoogleDrive\n",
        "from google.colab import auth\n",
        "from oauth2client.client import GoogleCredentials\n",
        "\n",
        "# Authenticate and create the PyDrive client\n",
        "# This only needs to be done once per notebook\n",
        "auth.authenticate_user()\n",
        "gauth = GoogleAuth()\n",
        "gauth.credentials = GoogleCredentials.get_application_default()\n",
        "drive = GoogleDrive(gauth)"
      ],
      "metadata": {
        "colab": {
          "base_uri": "https://localhost:8080/"
        },
        "id": "qTZqV7klwRyq",
        "outputId": "b6b8ba3b-3168-47aa-fb3b-d32dae0169f2"
      },
      "execution_count": null,
      "outputs": [
        {
          "output_type": "stream",
          "name": "stdout",
          "text": [
            "\u001b[33mWARNING: Running pip as the 'root' user can result in broken permissions and conflicting behaviour with the system package manager. It is recommended to use a virtual environment instead: https://pip.pypa.io/warnings/venv\u001b[0m\u001b[33m\n",
            "\u001b[0m"
          ]
        }
      ]
    },
    {
      "cell_type": "code",
      "execution_count": null,
      "metadata": {
        "id": "-2t9nLbcO0A3",
        "colab": {
          "base_uri": "https://localhost:8080/"
        },
        "outputId": "43b606d3-597a-4eb8-a339-1ff24938ec66"
      },
      "outputs": [
        {
          "output_type": "stream",
          "name": "stdout",
          "text": [
            "Looking in indexes: https://pypi.org/simple, https://us-python.pkg.dev/colab-wheels/public/simple/\n",
            "Requirement already satisfied: dmba in /usr/local/lib/python3.7/dist-packages (0.1.0)\n",
            "\u001b[33mWARNING: Running pip as the 'root' user can result in broken permissions and conflicting behaviour with the system package manager. It is recommended to use a virtual environment instead: https://pip.pypa.io/warnings/venv\u001b[0m\u001b[33m\n",
            "\u001b[0mLooking in indexes: https://pypi.org/simple, https://us-python.pkg.dev/colab-wheels/public/simple/\n",
            "Requirement already satisfied: pip in /usr/local/lib/python3.7/dist-packages (22.1.2)\n",
            "Requirement already satisfied: setuptools in /usr/local/lib/python3.7/dist-packages (62.6.0)\n",
            "Requirement already satisfied: wheel in /usr/local/lib/python3.7/dist-packages (0.37.1)\n",
            "\u001b[33mWARNING: Running pip as the 'root' user can result in broken permissions and conflicting behaviour with the system package manager. It is recommended to use a virtual environment instead: https://pip.pypa.io/warnings/venv\u001b[0m\u001b[33m\n",
            "\u001b[0mLooking in indexes: https://pypi.org/simple, https://us-python.pkg.dev/colab-wheels/public/simple/\n",
            "Requirement already satisfied: spacy in /usr/local/lib/python3.7/dist-packages (3.3.1)\n",
            "Requirement already satisfied: pydantic!=1.8,!=1.8.1,<1.9.0,>=1.7.4 in /usr/local/lib/python3.7/dist-packages (from spacy) (1.8.2)\n",
            "Requirement already satisfied: murmurhash<1.1.0,>=0.28.0 in /usr/local/lib/python3.7/dist-packages (from spacy) (1.0.7)\n",
            "Requirement already satisfied: cymem<2.1.0,>=2.0.2 in /usr/local/lib/python3.7/dist-packages (from spacy) (2.0.6)\n",
            "Requirement already satisfied: preshed<3.1.0,>=3.0.2 in /usr/local/lib/python3.7/dist-packages (from spacy) (3.0.6)\n",
            "Requirement already satisfied: spacy-legacy<3.1.0,>=3.0.9 in /usr/local/lib/python3.7/dist-packages (from spacy) (3.0.9)\n",
            "Requirement already satisfied: tqdm<5.0.0,>=4.38.0 in /usr/local/lib/python3.7/dist-packages (from spacy) (4.64.0)\n",
            "Requirement already satisfied: numpy>=1.15.0 in /usr/local/lib/python3.7/dist-packages (from spacy) (1.21.6)\n",
            "Requirement already satisfied: setuptools in /usr/local/lib/python3.7/dist-packages (from spacy) (62.6.0)\n",
            "Requirement already satisfied: catalogue<2.1.0,>=2.0.6 in /usr/local/lib/python3.7/dist-packages (from spacy) (2.0.7)\n",
            "Requirement already satisfied: requests<3.0.0,>=2.13.0 in /usr/local/lib/python3.7/dist-packages (from spacy) (2.23.0)\n",
            "Requirement already satisfied: spacy-loggers<2.0.0,>=1.0.0 in /usr/local/lib/python3.7/dist-packages (from spacy) (1.0.2)\n",
            "Requirement already satisfied: langcodes<4.0.0,>=3.2.0 in /usr/local/lib/python3.7/dist-packages (from spacy) (3.3.0)\n",
            "Requirement already satisfied: pathy>=0.3.5 in /usr/local/lib/python3.7/dist-packages (from spacy) (0.6.1)\n",
            "Requirement already satisfied: typer<0.5.0,>=0.3.0 in /usr/local/lib/python3.7/dist-packages (from spacy) (0.4.1)\n",
            "Requirement already satisfied: jinja2 in /usr/local/lib/python3.7/dist-packages (from spacy) (2.11.3)\n",
            "Requirement already satisfied: thinc<8.1.0,>=8.0.14 in /usr/local/lib/python3.7/dist-packages (from spacy) (8.0.17)\n",
            "Requirement already satisfied: packaging>=20.0 in /usr/local/lib/python3.7/dist-packages (from spacy) (21.3)\n",
            "Requirement already satisfied: blis<0.8.0,>=0.4.0 in /usr/local/lib/python3.7/dist-packages (from spacy) (0.7.7)\n",
            "Requirement already satisfied: srsly<3.0.0,>=2.4.3 in /usr/local/lib/python3.7/dist-packages (from spacy) (2.4.3)\n",
            "Requirement already satisfied: wasabi<1.1.0,>=0.9.1 in /usr/local/lib/python3.7/dist-packages (from spacy) (0.9.1)\n",
            "Requirement already satisfied: typing-extensions<4.2.0,>=3.7.4 in /usr/local/lib/python3.7/dist-packages (from spacy) (4.1.1)\n",
            "Requirement already satisfied: zipp>=0.5 in /usr/local/lib/python3.7/dist-packages (from catalogue<2.1.0,>=2.0.6->spacy) (3.8.0)\n",
            "Requirement already satisfied: pyparsing!=3.0.5,>=2.0.2 in /usr/local/lib/python3.7/dist-packages (from packaging>=20.0->spacy) (3.0.9)\n",
            "Requirement already satisfied: smart-open<6.0.0,>=5.0.0 in /usr/local/lib/python3.7/dist-packages (from pathy>=0.3.5->spacy) (5.2.1)\n",
            "Requirement already satisfied: certifi>=2017.4.17 in /usr/local/lib/python3.7/dist-packages (from requests<3.0.0,>=2.13.0->spacy) (2022.6.15)\n",
            "Requirement already satisfied: idna<3,>=2.5 in /usr/local/lib/python3.7/dist-packages (from requests<3.0.0,>=2.13.0->spacy) (2.10)\n",
            "Requirement already satisfied: urllib3!=1.25.0,!=1.25.1,<1.26,>=1.21.1 in /usr/local/lib/python3.7/dist-packages (from requests<3.0.0,>=2.13.0->spacy) (1.24.3)\n",
            "Requirement already satisfied: chardet<4,>=3.0.2 in /usr/local/lib/python3.7/dist-packages (from requests<3.0.0,>=2.13.0->spacy) (3.0.4)\n",
            "Requirement already satisfied: click<9.0.0,>=7.1.1 in /usr/local/lib/python3.7/dist-packages (from typer<0.5.0,>=0.3.0->spacy) (7.1.2)\n",
            "Requirement already satisfied: MarkupSafe>=0.23 in /usr/local/lib/python3.7/dist-packages (from jinja2->spacy) (2.0.1)\n",
            "\u001b[33mWARNING: Running pip as the 'root' user can result in broken permissions and conflicting behaviour with the system package manager. It is recommended to use a virtual environment instead: https://pip.pypa.io/warnings/venv\u001b[0m\u001b[33m\n",
            "\u001b[0mLooking in indexes: https://pypi.org/simple, https://us-python.pkg.dev/colab-wheels/public/simple/\n",
            "Collecting en-core-web-sm==3.3.0\n",
            "  Downloading https://github.com/explosion/spacy-models/releases/download/en_core_web_sm-3.3.0/en_core_web_sm-3.3.0-py3-none-any.whl (12.8 MB)\n",
            "\u001b[2K     \u001b[90m━━━━━━━━━━━━━━━━━━━━━━━━━━━━━━━━━━━━━━━━\u001b[0m \u001b[32m12.8/12.8 MB\u001b[0m \u001b[31m42.8 MB/s\u001b[0m eta \u001b[36m0:00:00\u001b[0m\n",
            "\u001b[?25hRequirement already satisfied: spacy<3.4.0,>=3.3.0.dev0 in /usr/local/lib/python3.7/dist-packages (from en-core-web-sm==3.3.0) (3.3.1)\n",
            "Requirement already satisfied: tqdm<5.0.0,>=4.38.0 in /usr/local/lib/python3.7/dist-packages (from spacy<3.4.0,>=3.3.0.dev0->en-core-web-sm==3.3.0) (4.64.0)\n",
            "Requirement already satisfied: typing-extensions<4.2.0,>=3.7.4 in /usr/local/lib/python3.7/dist-packages (from spacy<3.4.0,>=3.3.0.dev0->en-core-web-sm==3.3.0) (4.1.1)\n",
            "Requirement already satisfied: setuptools in /usr/local/lib/python3.7/dist-packages (from spacy<3.4.0,>=3.3.0.dev0->en-core-web-sm==3.3.0) (62.6.0)\n",
            "Requirement already satisfied: wasabi<1.1.0,>=0.9.1 in /usr/local/lib/python3.7/dist-packages (from spacy<3.4.0,>=3.3.0.dev0->en-core-web-sm==3.3.0) (0.9.1)\n",
            "Requirement already satisfied: thinc<8.1.0,>=8.0.14 in /usr/local/lib/python3.7/dist-packages (from spacy<3.4.0,>=3.3.0.dev0->en-core-web-sm==3.3.0) (8.0.17)\n",
            "Requirement already satisfied: jinja2 in /usr/local/lib/python3.7/dist-packages (from spacy<3.4.0,>=3.3.0.dev0->en-core-web-sm==3.3.0) (2.11.3)\n",
            "Requirement already satisfied: blis<0.8.0,>=0.4.0 in /usr/local/lib/python3.7/dist-packages (from spacy<3.4.0,>=3.3.0.dev0->en-core-web-sm==3.3.0) (0.7.7)\n",
            "Requirement already satisfied: typer<0.5.0,>=0.3.0 in /usr/local/lib/python3.7/dist-packages (from spacy<3.4.0,>=3.3.0.dev0->en-core-web-sm==3.3.0) (0.4.1)\n",
            "Requirement already satisfied: murmurhash<1.1.0,>=0.28.0 in /usr/local/lib/python3.7/dist-packages (from spacy<3.4.0,>=3.3.0.dev0->en-core-web-sm==3.3.0) (1.0.7)\n",
            "Requirement already satisfied: langcodes<4.0.0,>=3.2.0 in /usr/local/lib/python3.7/dist-packages (from spacy<3.4.0,>=3.3.0.dev0->en-core-web-sm==3.3.0) (3.3.0)\n",
            "Requirement already satisfied: requests<3.0.0,>=2.13.0 in /usr/local/lib/python3.7/dist-packages (from spacy<3.4.0,>=3.3.0.dev0->en-core-web-sm==3.3.0) (2.23.0)\n",
            "Requirement already satisfied: catalogue<2.1.0,>=2.0.6 in /usr/local/lib/python3.7/dist-packages (from spacy<3.4.0,>=3.3.0.dev0->en-core-web-sm==3.3.0) (2.0.7)\n",
            "Requirement already satisfied: spacy-loggers<2.0.0,>=1.0.0 in /usr/local/lib/python3.7/dist-packages (from spacy<3.4.0,>=3.3.0.dev0->en-core-web-sm==3.3.0) (1.0.2)\n",
            "Requirement already satisfied: spacy-legacy<3.1.0,>=3.0.9 in /usr/local/lib/python3.7/dist-packages (from spacy<3.4.0,>=3.3.0.dev0->en-core-web-sm==3.3.0) (3.0.9)\n",
            "Requirement already satisfied: preshed<3.1.0,>=3.0.2 in /usr/local/lib/python3.7/dist-packages (from spacy<3.4.0,>=3.3.0.dev0->en-core-web-sm==3.3.0) (3.0.6)\n",
            "Requirement already satisfied: packaging>=20.0 in /usr/local/lib/python3.7/dist-packages (from spacy<3.4.0,>=3.3.0.dev0->en-core-web-sm==3.3.0) (21.3)\n",
            "Requirement already satisfied: pathy>=0.3.5 in /usr/local/lib/python3.7/dist-packages (from spacy<3.4.0,>=3.3.0.dev0->en-core-web-sm==3.3.0) (0.6.1)\n",
            "Requirement already satisfied: numpy>=1.15.0 in /usr/local/lib/python3.7/dist-packages (from spacy<3.4.0,>=3.3.0.dev0->en-core-web-sm==3.3.0) (1.21.6)\n",
            "Requirement already satisfied: srsly<3.0.0,>=2.4.3 in /usr/local/lib/python3.7/dist-packages (from spacy<3.4.0,>=3.3.0.dev0->en-core-web-sm==3.3.0) (2.4.3)\n",
            "Requirement already satisfied: cymem<2.1.0,>=2.0.2 in /usr/local/lib/python3.7/dist-packages (from spacy<3.4.0,>=3.3.0.dev0->en-core-web-sm==3.3.0) (2.0.6)\n",
            "Requirement already satisfied: pydantic!=1.8,!=1.8.1,<1.9.0,>=1.7.4 in /usr/local/lib/python3.7/dist-packages (from spacy<3.4.0,>=3.3.0.dev0->en-core-web-sm==3.3.0) (1.8.2)\n",
            "Requirement already satisfied: zipp>=0.5 in /usr/local/lib/python3.7/dist-packages (from catalogue<2.1.0,>=2.0.6->spacy<3.4.0,>=3.3.0.dev0->en-core-web-sm==3.3.0) (3.8.0)\n",
            "Requirement already satisfied: pyparsing!=3.0.5,>=2.0.2 in /usr/local/lib/python3.7/dist-packages (from packaging>=20.0->spacy<3.4.0,>=3.3.0.dev0->en-core-web-sm==3.3.0) (3.0.9)\n",
            "Requirement already satisfied: smart-open<6.0.0,>=5.0.0 in /usr/local/lib/python3.7/dist-packages (from pathy>=0.3.5->spacy<3.4.0,>=3.3.0.dev0->en-core-web-sm==3.3.0) (5.2.1)\n",
            "Requirement already satisfied: certifi>=2017.4.17 in /usr/local/lib/python3.7/dist-packages (from requests<3.0.0,>=2.13.0->spacy<3.4.0,>=3.3.0.dev0->en-core-web-sm==3.3.0) (2022.6.15)\n",
            "Requirement already satisfied: chardet<4,>=3.0.2 in /usr/local/lib/python3.7/dist-packages (from requests<3.0.0,>=2.13.0->spacy<3.4.0,>=3.3.0.dev0->en-core-web-sm==3.3.0) (3.0.4)\n",
            "Requirement already satisfied: idna<3,>=2.5 in /usr/local/lib/python3.7/dist-packages (from requests<3.0.0,>=2.13.0->spacy<3.4.0,>=3.3.0.dev0->en-core-web-sm==3.3.0) (2.10)\n",
            "Requirement already satisfied: urllib3!=1.25.0,!=1.25.1,<1.26,>=1.21.1 in /usr/local/lib/python3.7/dist-packages (from requests<3.0.0,>=2.13.0->spacy<3.4.0,>=3.3.0.dev0->en-core-web-sm==3.3.0) (1.24.3)\n",
            "Requirement already satisfied: click<9.0.0,>=7.1.1 in /usr/local/lib/python3.7/dist-packages (from typer<0.5.0,>=0.3.0->spacy<3.4.0,>=3.3.0.dev0->en-core-web-sm==3.3.0) (7.1.2)\n",
            "Requirement already satisfied: MarkupSafe>=0.23 in /usr/local/lib/python3.7/dist-packages (from jinja2->spacy<3.4.0,>=3.3.0.dev0->en-core-web-sm==3.3.0) (2.0.1)\n",
            "\u001b[33mWARNING: Running pip as the 'root' user can result in broken permissions and conflicting behaviour with the system package manager. It is recommended to use a virtual environment instead: https://pip.pypa.io/warnings/venv\u001b[0m\u001b[33m\n",
            "\u001b[0m\u001b[38;5;2m✔ Download and installation successful\u001b[0m\n",
            "You can now load the package via spacy.load('en_core_web_sm')\n",
            "Looking in indexes: https://pypi.org/simple, https://us-python.pkg.dev/colab-wheels/public/simple/\n",
            "Requirement already satisfied: stop-words in /usr/local/lib/python3.7/dist-packages (2018.7.23)\n",
            "\u001b[33mWARNING: Running pip as the 'root' user can result in broken permissions and conflicting behaviour with the system package manager. It is recommended to use a virtual environment instead: https://pip.pypa.io/warnings/venv\u001b[0m\u001b[33m\n",
            "\u001b[0m"
          ]
        },
        {
          "output_type": "stream",
          "name": "stderr",
          "text": [
            "[nltk_data] Downloading package averaged_perceptron_tagger to\n",
            "[nltk_data]     /root/nltk_data...\n",
            "[nltk_data]   Package averaged_perceptron_tagger is already up-to-\n",
            "[nltk_data]       date!\n",
            "[nltk_data] Downloading package punkt to /root/nltk_data...\n",
            "[nltk_data]   Package punkt is already up-to-date!\n",
            "[nltk_data] Downloading package wordnet to /root/nltk_data...\n",
            "[nltk_data]   Package wordnet is already up-to-date!\n",
            "[nltk_data] Downloading package stopwords to /root/nltk_data...\n",
            "[nltk_data]   Package stopwords is already up-to-date!\n"
          ]
        },
        {
          "output_type": "execute_result",
          "data": {
            "text/plain": [
              "True"
            ]
          },
          "metadata": {},
          "execution_count": 105
        }
      ],
      "source": [
        "%matplotlib inline\n",
        "\n",
        "#Import Packages\n",
        "from zipfile import ZipFile\n",
        "import pickle\n",
        "from pathlib import Path\n",
        "import pandas as pd\n",
        "import numpy as np\n",
        "import seaborn as sns\n",
        "import re\n",
        "from string import punctuation\n",
        "import matplotlib.pylab \n",
        "from matplotlib.pyplot import cm\n",
        "from collections import Counter\n",
        "import matplotlib.pyplot as plt\n",
        "\n",
        "import seaborn as sns\n",
        "sns.set_style(\"whitegrid\")\n",
        "sns.set_context(\"talk\")\n",
        "sns.set_style(\"ticks\", {\"xtick.major.size\": 8, \"ytick.major.size\": 8})\n",
        "\n",
        "from pprint import pprint\n",
        "import warnings\n",
        "warnings.filterwarnings('ignore')\n",
        "#Helper Functions\n",
        "import sys\n",
        "!{sys.executable} -m pip install dmba\n",
        "from dmba import printTermDocumentMatrix, classificationSummary, liftChart\n",
        "!pip install -U pip setuptools wheel \n",
        "!pip install -U spacy\n",
        "!python -m spacy download en_core_web_sm\n",
        "\n",
        "#scikit-learn \n",
        "from sklearn.model_selection import train_test_split\n",
        "from sklearn.feature_extraction.text import CountVectorizer\n",
        "from sklearn.feature_extraction.text import TfidfVectorizer\n",
        "from sklearn.feature_extraction.text import TfidfTransformer\n",
        "from sklearn.feature_extraction._stop_words import ENGLISH_STOP_WORDS\n",
        "from sklearn.decomposition import TruncatedSVD\n",
        "from sklearn.preprocessing import Normalizer\n",
        "from sklearn.pipeline import Pipeline, make_pipeline\n",
        "from sklearn.model_selection import train_test_split\n",
        "from sklearn.feature_selection import chi2\n",
        "from sklearn.linear_model import LogisticRegression\n",
        "from sklearn.naive_bayes import BernoulliNB\n",
        "from sklearn import metrics\n",
        "\n",
        "#nltk\n",
        "!pip install stop-words\n",
        "import nltk\n",
        "from nltk.tokenize import sent_tokenize, word_tokenize, RegexpTokenizer\n",
        "from nltk.util import ngrams\n",
        "from nltk.corpus import stopwords\n",
        "from nltk.stem import WordNetLemmatizer\n",
        "from nltk.stem.snowball import EnglishStemmer\n",
        "nltk.download('averaged_perceptron_tagger')\n",
        "nltk.download('punkt')\n",
        "nltk.download('wordnet')\n",
        "nltk.download('stopwords')"
      ]
    },
    {
      "cell_type": "markdown",
      "source": [
        "# Data Pre-Processing 🧪"
      ],
      "metadata": {
        "id": "oxlVNCX3yWKB"
      }
    },
    {
      "cell_type": "markdown",
      "source": [
        "## Load Data"
      ],
      "metadata": {
        "id": "_gDj4tmGybc5"
      }
    },
    {
      "cell_type": "code",
      "source": [
        "# Mount Google Drive \n",
        "from google.colab import drive \n",
        "drive.mount('/content/drive')\n",
        "text = pd.read_csv('/content/drive/MyDrive/Grad School/MMAI Summer 2022/MMAI 5400 NLP/Assignment #2/reviews (2).csv', delimiter='\\t')"
      ],
      "metadata": {
        "id": "pBsyJ3_2j66N",
        "colab": {
          "base_uri": "https://localhost:8080/"
        },
        "outputId": "5772e41c-38e0-4174-ed7f-e59d728f74b8"
      },
      "execution_count": null,
      "outputs": [
        {
          "output_type": "stream",
          "name": "stdout",
          "text": [
            "Drive already mounted at /content/drive; to attempt to forcibly remount, call drive.mount(\"/content/drive\", force_remount=True).\n"
          ]
        }
      ]
    },
    {
      "cell_type": "code",
      "source": [
        "# Adjust Text Description Length \n",
        "pd.set_option('max_colwidth', 100)"
      ],
      "metadata": {
        "id": "6ydyDyWsRirl"
      },
      "execution_count": null,
      "outputs": []
    },
    {
      "cell_type": "code",
      "source": [
        "# Load Data \n",
        "print(text.columns)\n",
        "\n",
        "print(text.describe)"
      ],
      "metadata": {
        "colab": {
          "base_uri": "https://localhost:8080/"
        },
        "id": "yMynzgEqo8Q4",
        "outputId": "c2ad783f-0eca-4883-918d-135f1c044736"
      },
      "execution_count": null,
      "outputs": [
        {
          "output_type": "stream",
          "name": "stdout",
          "text": [
            "Index(['Name', 'RatingValue', 'DatePublished', 'Review'], dtype='object')\n",
            "<bound method NDFrame.describe of                        Name  RatingValue DatePublished  \\\n",
            "0              Playa Cabana            4    2020-02-26   \n",
            "1              Playa Cabana            3    2019-08-04   \n",
            "2              Playa Cabana            3    2019-08-24   \n",
            "3              Playa Cabana            4    2019-06-06   \n",
            "4              Playa Cabana            5    2020-05-25   \n",
            "...                     ...          ...           ...   \n",
            "1915  Greedy Duck & Noodles            2    2019-04-29   \n",
            "1916  Greedy Duck & Noodles            5    2019-08-15   \n",
            "1917  Greedy Duck & Noodles            5    2019-03-16   \n",
            "1918  Greedy Duck & Noodles            4    2019-10-12   \n",
            "1919  Greedy Duck & Noodles            5    2018-09-07   \n",
            "\n",
            "                                                                                                   Review  \n",
            "0     I was tasked with finding a spot for a group dinner of eight and landed on Playa Cabana. It was ...  \n",
            "1     Went here with my friends and family. I liked the spice side fillings and their lobster tacos wa...  \n",
            "2     Surprisingly good Flautas! They came as 3 rolls made of a crunchy tortilla containing lots of sh...  \n",
            "3     As a Mexican I always crave authentic Mexican food in Toronto but have difficulties finding it. ...  \n",
            "4         Best tacos I've ever had. Both locations are great and offer a great selection of Mexican fare.  \n",
            "...                                                                                                   ...  \n",
            "1915  Maybe I didn't know what to expect but the wings are served cool and are mostly skin and bone. D...  \n",
            "1916  This is a casual family run restaurant. It's homey and simple. I found the dry noodles quite tas...  \n",
            "1917  Very tasty and unique flavours. This has become a weekly go-to place. The dry noodle is deliciou...  \n",
            "1918  The dry noodles are pretty good, super strong sesame flavor. The wings are served cold which I w...  \n",
            "1919  This is hands down the best noodle place in Toronto!! The Beef Hot and Dry Noodles are delicious...  \n",
            "\n",
            "[1920 rows x 4 columns]>\n"
          ]
        }
      ]
    },
    {
      "cell_type": "markdown",
      "source": [
        "## Visualize Review Score Distribution"
      ],
      "metadata": {
        "id": "k8VmGUnPyfqW"
      }
    },
    {
      "cell_type": "code",
      "source": [
        "# Visualize Review Score Distribution\n",
        "%matplotlib inline\n",
        "plt.figure(figsize=(8,6))\n",
        "plt.bar(np.arange(1,6), np.bincount(text['RatingValue'])[1:])\n",
        "plt.title(\"Reviews by Rating Value\")\n",
        "plt.xlabel(\"Rating Value\")\n",
        "plt.show()"
      ],
      "metadata": {
        "colab": {
          "base_uri": "https://localhost:8080/",
          "height": 430
        },
        "id": "MbZkQ7MvvzI_",
        "outputId": "c6878ce0-99bd-4584-db7b-61179d0637d8"
      },
      "execution_count": null,
      "outputs": [
        {
          "output_type": "display_data",
          "data": {
            "text/plain": [
              "<Figure size 576x432 with 1 Axes>"
            ],
            "image/png": "[encoded data removed]"
          },
          "metadata": {
            "needs_background": "light"
          }
        }
      ]
    },
    {
      "cell_type": "markdown",
      "source": [
        "# Statistical Analysis 📈"
      ],
      "metadata": {
        "id": "9XivMu8HDkwj"
      }
    },
    {
      "cell_type": "code",
      "source": [
        "# Install Packages \n",
        "import spacy\n",
        "!python -m spacy download en_core_web_lg # if not installed\n",
        "nlp = spacy.load('en_core_web_lg') # about 850 MB\n",
        "from spacy import displacy"
      ],
      "metadata": {
        "colab": {
          "base_uri": "https://localhost:8080/"
        },
        "id": "Wm9MLOmkDj3Q",
        "outputId": "c5a47af5-5428-4a88-fc3e-34737ee7cf04"
      },
      "execution_count": null,
      "outputs": [
        {
          "output_type": "stream",
          "name": "stdout",
          "text": [
            "Looking in indexes: https://pypi.org/simple, https://us-python.pkg.dev/colab-wheels/public/simple/\n",
            "Collecting en-core-web-lg==3.3.0\n",
            "  Downloading https://github.com/explosion/spacy-models/releases/download/en_core_web_lg-3.3.0/en_core_web_lg-3.3.0-py3-none-any.whl (400.7 MB)\n",
            "\u001b[2K     \u001b[90m━━━━━━━━━━━━━━━━━━━━━━━━━━━━━━━━━━━━━━━\u001b[0m \u001b[32m400.7/400.7 MB\u001b[0m \u001b[31m1.2 MB/s\u001b[0m eta \u001b[36m0:00:00\u001b[0m\n",
            "\u001b[?25hRequirement already satisfied: spacy<3.4.0,>=3.3.0.dev0 in /usr/local/lib/python3.7/dist-packages (from en-core-web-lg==3.3.0) (3.3.1)\n",
            "Requirement already satisfied: pydantic!=1.8,!=1.8.1,<1.9.0,>=1.7.4 in /usr/local/lib/python3.7/dist-packages (from spacy<3.4.0,>=3.3.0.dev0->en-core-web-lg==3.3.0) (1.8.2)\n",
            "Requirement already satisfied: typing-extensions<4.2.0,>=3.7.4 in /usr/local/lib/python3.7/dist-packages (from spacy<3.4.0,>=3.3.0.dev0->en-core-web-lg==3.3.0) (4.1.1)\n",
            "Requirement already satisfied: thinc<8.1.0,>=8.0.14 in /usr/local/lib/python3.7/dist-packages (from spacy<3.4.0,>=3.3.0.dev0->en-core-web-lg==3.3.0) (8.0.17)\n",
            "Requirement already satisfied: wasabi<1.1.0,>=0.9.1 in /usr/local/lib/python3.7/dist-packages (from spacy<3.4.0,>=3.3.0.dev0->en-core-web-lg==3.3.0) (0.9.1)\n",
            "Requirement already satisfied: cymem<2.1.0,>=2.0.2 in /usr/local/lib/python3.7/dist-packages (from spacy<3.4.0,>=3.3.0.dev0->en-core-web-lg==3.3.0) (2.0.6)\n",
            "Requirement already satisfied: spacy-legacy<3.1.0,>=3.0.9 in /usr/local/lib/python3.7/dist-packages (from spacy<3.4.0,>=3.3.0.dev0->en-core-web-lg==3.3.0) (3.0.9)\n",
            "Requirement already satisfied: preshed<3.1.0,>=3.0.2 in /usr/local/lib/python3.7/dist-packages (from spacy<3.4.0,>=3.3.0.dev0->en-core-web-lg==3.3.0) (3.0.6)\n",
            "Requirement already satisfied: packaging>=20.0 in /usr/local/lib/python3.7/dist-packages (from spacy<3.4.0,>=3.3.0.dev0->en-core-web-lg==3.3.0) (21.3)\n",
            "Requirement already satisfied: pathy>=0.3.5 in /usr/local/lib/python3.7/dist-packages (from spacy<3.4.0,>=3.3.0.dev0->en-core-web-lg==3.3.0) (0.6.1)\n",
            "Requirement already satisfied: numpy>=1.15.0 in /usr/local/lib/python3.7/dist-packages (from spacy<3.4.0,>=3.3.0.dev0->en-core-web-lg==3.3.0) (1.21.6)\n",
            "Requirement already satisfied: tqdm<5.0.0,>=4.38.0 in /usr/local/lib/python3.7/dist-packages (from spacy<3.4.0,>=3.3.0.dev0->en-core-web-lg==3.3.0) (4.64.0)\n",
            "Requirement already satisfied: srsly<3.0.0,>=2.4.3 in /usr/local/lib/python3.7/dist-packages (from spacy<3.4.0,>=3.3.0.dev0->en-core-web-lg==3.3.0) (2.4.3)\n",
            "Requirement already satisfied: langcodes<4.0.0,>=3.2.0 in /usr/local/lib/python3.7/dist-packages (from spacy<3.4.0,>=3.3.0.dev0->en-core-web-lg==3.3.0) (3.3.0)\n",
            "Requirement already satisfied: catalogue<2.1.0,>=2.0.6 in /usr/local/lib/python3.7/dist-packages (from spacy<3.4.0,>=3.3.0.dev0->en-core-web-lg==3.3.0) (2.0.7)\n",
            "Requirement already satisfied: jinja2 in /usr/local/lib/python3.7/dist-packages (from spacy<3.4.0,>=3.3.0.dev0->en-core-web-lg==3.3.0) (2.11.3)\n",
            "Requirement already satisfied: murmurhash<1.1.0,>=0.28.0 in /usr/local/lib/python3.7/dist-packages (from spacy<3.4.0,>=3.3.0.dev0->en-core-web-lg==3.3.0) (1.0.7)\n",
            "Requirement already satisfied: setuptools in /usr/local/lib/python3.7/dist-packages (from spacy<3.4.0,>=3.3.0.dev0->en-core-web-lg==3.3.0) (62.6.0)\n",
            "Requirement already satisfied: blis<0.8.0,>=0.4.0 in /usr/local/lib/python3.7/dist-packages (from spacy<3.4.0,>=3.3.0.dev0->en-core-web-lg==3.3.0) (0.7.7)\n",
            "Requirement already satisfied: requests<3.0.0,>=2.13.0 in /usr/local/lib/python3.7/dist-packages (from spacy<3.4.0,>=3.3.0.dev0->en-core-web-lg==3.3.0) (2.23.0)\n",
            "Requirement already satisfied: typer<0.5.0,>=0.3.0 in /usr/local/lib/python3.7/dist-packages (from spacy<3.4.0,>=3.3.0.dev0->en-core-web-lg==3.3.0) (0.4.1)\n",
            "Requirement already satisfied: spacy-loggers<2.0.0,>=1.0.0 in /usr/local/lib/python3.7/dist-packages (from spacy<3.4.0,>=3.3.0.dev0->en-core-web-lg==3.3.0) (1.0.2)\n",
            "Requirement already satisfied: zipp>=0.5 in /usr/local/lib/python3.7/dist-packages (from catalogue<2.1.0,>=2.0.6->spacy<3.4.0,>=3.3.0.dev0->en-core-web-lg==3.3.0) (3.8.0)\n",
            "Requirement already satisfied: pyparsing!=3.0.5,>=2.0.2 in /usr/local/lib/python3.7/dist-packages (from packaging>=20.0->spacy<3.4.0,>=3.3.0.dev0->en-core-web-lg==3.3.0) (3.0.9)\n",
            "Requirement already satisfied: smart-open<6.0.0,>=5.0.0 in /usr/local/lib/python3.7/dist-packages (from pathy>=0.3.5->spacy<3.4.0,>=3.3.0.dev0->en-core-web-lg==3.3.0) (5.2.1)\n",
            "Requirement already satisfied: chardet<4,>=3.0.2 in /usr/local/lib/python3.7/dist-packages (from requests<3.0.0,>=2.13.0->spacy<3.4.0,>=3.3.0.dev0->en-core-web-lg==3.3.0) (3.0.4)\n",
            "Requirement already satisfied: idna<3,>=2.5 in /usr/local/lib/python3.7/dist-packages (from requests<3.0.0,>=2.13.0->spacy<3.4.0,>=3.3.0.dev0->en-core-web-lg==3.3.0) (2.10)\n",
            "Requirement already satisfied: urllib3!=1.25.0,!=1.25.1,<1.26,>=1.21.1 in /usr/local/lib/python3.7/dist-packages (from requests<3.0.0,>=2.13.0->spacy<3.4.0,>=3.3.0.dev0->en-core-web-lg==3.3.0) (1.24.3)\n",
            "Requirement already satisfied: certifi>=2017.4.17 in /usr/local/lib/python3.7/dist-packages (from requests<3.0.0,>=2.13.0->spacy<3.4.0,>=3.3.0.dev0->en-core-web-lg==3.3.0) (2022.6.15)\n",
            "Requirement already satisfied: click<9.0.0,>=7.1.1 in /usr/local/lib/python3.7/dist-packages (from typer<0.5.0,>=0.3.0->spacy<3.4.0,>=3.3.0.dev0->en-core-web-lg==3.3.0) (7.1.2)\n",
            "Requirement already satisfied: MarkupSafe>=0.23 in /usr/local/lib/python3.7/dist-packages (from jinja2->spacy<3.4.0,>=3.3.0.dev0->en-core-web-lg==3.3.0) (2.0.1)\n",
            "\u001b[33mWARNING: Running pip as the 'root' user can result in broken permissions and conflicting behaviour with the system package manager. It is recommended to use a virtual environment instead: https://pip.pypa.io/warnings/venv\u001b[0m\u001b[33m\n",
            "\u001b[0m\u001b[38;5;2m✔ Download and installation successful\u001b[0m\n",
            "You can now load the package via spacy.load('en_core_web_lg')\n"
          ]
        }
      ]
    },
    {
      "cell_type": "code",
      "source": [
        "np.random.seed(42)\n",
        "\n",
        "def random_pooling(text, sample_len, classes = np.arange(1,6)):\n",
        "  scores = [np.random.choice(text[text['RatingValue']==x].index, sample_len, replace =  True)\n",
        "            for x in classes]\n",
        "  \n",
        "  return np.array(scores)"
      ],
      "metadata": {
        "id": "AsXp5pAA26CT"
      },
      "execution_count": null,
      "outputs": []
    },
    {
      "cell_type": "code",
      "source": [
        "ratings = random_pooling(text, 400)\n",
        "\n",
        "example_reviews = text.head(0)\n",
        "for i in range(5):\n",
        "  example_reviews = pd.concat([example_reviews, text.iloc[ratings[i]][:5]])\n",
        "  \n",
        "example_reviews"
      ],
      "metadata": {
        "colab": {
          "base_uri": "https://localhost:8080/",
          "height": 1000
        },
        "id": "Dd3DwnPk3skE",
        "outputId": "6cde0e08-499d-437d-c4c2-74930fe2fa3d"
      },
      "execution_count": null,
      "outputs": [
        {
          "output_type": "execute_result",
          "data": {
            "text/plain": [
              "                         Name  RatingValue DatePublished  \\\n",
              "1528                 98 Aroma            1    2019-12-10   \n",
              "421         Xola Mexican Food            1    2020-01-29   \n",
              "1895          Blooming Orchid            1    2019-11-01   \n",
              "1759  Dynasty Chinese Cuisine            1    2019-12-24   \n",
              "588           Los Guaca-Moles            1    2018-09-23   \n",
              "1878             Lai Wah Heen            2    2019-07-11   \n",
              "540     Mariachi’s Restaurant            2    2018-10-13   \n",
              "283                 El Charro            2    2020-04-18   \n",
              "1043                  Levetto            2    2018-11-22   \n",
              "748           Enoteca Sociale            2    2019-07-27   \n",
              "1559   GB Hand-pulled Noodles            3    2019-12-15   \n",
              "1861             Artisan Plus            3    2019-09-03   \n",
              "1028          Nodo Restaurant            3    2018-06-24   \n",
              "1821             Asian Legend            3    2017-12-11   \n",
              "1352            Khao San Road            3    2019-06-23   \n",
              "1451    Hong Kong Bistro Cafe            4    2018-04-22   \n",
              "1162    Dimmi Bar & Trattoria            4    2018-12-31   \n",
              "576           Los Guaca-Moles            4    2018-04-29   \n",
              "1617    Yummy Yummy Dumplings            4    2019-12-19   \n",
              "1414                    DaiLo            4    2020-01-07   \n",
              "1013          Nodo Restaurant            5    2020-05-05   \n",
              "205           El Nahual Tacos            5    2019-05-21   \n",
              "481            Comal y Canela            5    2019-12-27   \n",
              "823       Trattoria Taverniti            5    2018-08-14   \n",
              "751           Enoteca Sociale            5    2017-05-01   \n",
              "\n",
              "                                                                                                   Review  \n",
              "1528              Inattentive staff, over cooked food. Noodle break right apart because it's so overdone.  \n",
              "421   I came her few weeks ago. I straight up saw this lady (pretty sure the owner) handle cash/ scrat...  \n",
              "1895  NEVER ORDER FROM THIS RESTAURANT! We order from them at least 10 times a week, from our staff to...  \n",
              "1759  Worst experience I have ever had at a restaurant! \\nThe service was so slow; we got our food aft...  \n",
              "588   If you want to pay for a virgin margarita for a regular priced margarita, by all means come to t...  \n",
              "1878  First of all, let's be clear. Growing up in Asia, I have tasted the best of the best! So I'm not...  \n",
              "540   Went there on a Sat night at 6pm for dinner before a movie.  \\nOn the plus side the service was ...  \n",
              "283   I added this to my list based on good Yelp reviews. We ordered a takeaway - burrito, quesadilla ...  \n",
              "1043  Overrated non-authentic Italian food. Their location gives them business. \\n\\nMenu is interestin...  \n",
              "748               I came here and had a short male server with a buzz cut and glasses that was very rude.  \n",
              "1559  I have to give credit where credit is due - GB Noodles is the restaurant that made me a noodle-s...  \n",
              "1861  Artisan Plus received a great amount of hype upon opening on IG and I've been waiting to try it ...  \n",
              "1028  For such a charming looking restaurant with high ratings, I had big hopes for Nodo. I loved the ...  \n",
              "1821  We had a team member who was leaving work to pursue his dream job and we took him out for lunch....  \n",
              "1352  Food: 4/5\\nService: 3.5/5\\nDecor: 3/5\\nPrice: 4/5\\n\\nSmall and quaint. When entering there was a...  \n",
              "1451  Revisiting Hong Kong Bistro Cafe after their renovation, it was like a totally new experience. T...  \n",
              "1162  If you're on a diet, you shouldn't even be looking at this place. You can have a water. \\n\\nThis...  \n",
              "576   My boyfriend and I came here on Friday and had a really positive experience. We stopped in after...  \n",
              "1617  I've been on a dumpling craze for a while and I finally found a place I absolutely love.\\n\\nYumm...  \n",
              "1414  DaiLo was recommended to me by a Toronto local and albeit the pricey small portions, I'm glad I ...  \n",
              "1013  Hands down one of the best Italian restaurants in the city. Wonderful service upon pick up and j...  \n",
              "205   Love these tacos. So delicious. I have no other words other than yum. They make their tortillas ...  \n",
              "481   I have nothing to add. The food here is superb, in particular the birria and carnitas. Tacos, na...  \n",
              "823   Went with my friend out and we found this place.\\nI thought it will be closed cause of the yelp ...  \n",
              "751   Great place for a date. Romantic/rustic decor and a small menu gives room for care in every dish...  "
            ],
            "text/html": [
              "\n",
              "  <div id=\"df-0dee43d5-4e89-4c40-82ff-b36ba6d74a17\">\n",
              "    <div class=\"colab-df-container\">\n",
              "      <div>\n",
              "<style scoped>\n",
              "    .dataframe tbody tr th:only-of-type {\n",
              "        vertical-align: middle;\n",
              "    }\n",
              "\n",
              "    .dataframe tbody tr th {\n",
              "        vertical-align: top;\n",
              "    }\n",
              "\n",
              "    .dataframe thead th {\n",
              "        text-align: right;\n",
              "    }\n",
              "</style>\n",
              "<table border=\"1\" class=\"dataframe\">\n",
              "  <thead>\n",
              "    <tr style=\"text-align: right;\">\n",
              "      <th></th>\n",
              "      <th>Name</th>\n",
              "      <th>RatingValue</th>\n",
              "      <th>DatePublished</th>\n",
              "      <th>Review</th>\n",
              "    </tr>\n",
              "  </thead>\n",
              "  <tbody>\n",
              "    <tr>\n",
              "      <th>1528</th>\n",
              "      <td>98 Aroma</td>\n",
              "      <td>1</td>\n",
              "      <td>2019-12-10</td>\n",
              "      <td>Inattentive staff, over cooked food. Noodle break right apart because it's so overdone.</td>\n",
              "    </tr>\n",
              "    <tr>\n",
              "      <th>421</th>\n",
              "      <td>Xola Mexican Food</td>\n",
              "      <td>1</td>\n",
              "      <td>2020-01-29</td>\n",
              "      <td>I came her few weeks ago. I straight up saw this lady (pretty sure the owner) handle cash/ scrat...</td>\n",
              "    </tr>\n",
              "    <tr>\n",
              "      <th>1895</th>\n",
              "      <td>Blooming Orchid</td>\n",
              "      <td>1</td>\n",
              "      <td>2019-11-01</td>\n",
              "      <td>NEVER ORDER FROM THIS RESTAURANT! We order from them at least 10 times a week, from our staff to...</td>\n",
              "    </tr>\n",
              "    <tr>\n",
              "      <th>1759</th>\n",
              "      <td>Dynasty Chinese Cuisine</td>\n",
              "      <td>1</td>\n",
              "      <td>2019-12-24</td>\n",
              "      <td>Worst experience I have ever had at a restaurant! \\nThe service was so slow; we got our food aft...</td>\n",
              "    </tr>\n",
              "    <tr>\n",
              "      <th>588</th>\n",
              "      <td>Los Guaca-Moles</td>\n",
              "      <td>1</td>\n",
              "      <td>2018-09-23</td>\n",
              "      <td>If you want to pay for a virgin margarita for a regular priced margarita, by all means come to t...</td>\n",
              "    </tr>\n",
              "    <tr>\n",
              "      <th>1878</th>\n",
              "      <td>Lai Wah Heen</td>\n",
              "      <td>2</td>\n",
              "      <td>2019-07-11</td>\n",
              "      <td>First of all, let's be clear. Growing up in Asia, I have tasted the best of the best! So I'm not...</td>\n",
              "    </tr>\n",
              "    <tr>\n",
              "      <th>540</th>\n",
              "      <td>Mariachi’s Restaurant</td>\n",
              "      <td>2</td>\n",
              "      <td>2018-10-13</td>\n",
              "      <td>Went there on a Sat night at 6pm for dinner before a movie.  \\nOn the plus side the service was ...</td>\n",
              "    </tr>\n",
              "    <tr>\n",
              "      <th>283</th>\n",
              "      <td>El Charro</td>\n",
              "      <td>2</td>\n",
              "      <td>2020-04-18</td>\n",
              "      <td>I added this to my list based on good Yelp reviews. We ordered a takeaway - burrito, quesadilla ...</td>\n",
              "    </tr>\n",
              "    <tr>\n",
              "      <th>1043</th>\n",
              "      <td>Levetto</td>\n",
              "      <td>2</td>\n",
              "      <td>2018-11-22</td>\n",
              "      <td>Overrated non-authentic Italian food. Their location gives them business. \\n\\nMenu is interestin...</td>\n",
              "    </tr>\n",
              "    <tr>\n",
              "      <th>748</th>\n",
              "      <td>Enoteca Sociale</td>\n",
              "      <td>2</td>\n",
              "      <td>2019-07-27</td>\n",
              "      <td>I came here and had a short male server with a buzz cut and glasses that was very rude.</td>\n",
              "    </tr>\n",
              "    <tr>\n",
              "      <th>1559</th>\n",
              "      <td>GB Hand-pulled Noodles</td>\n",
              "      <td>3</td>\n",
              "      <td>2019-12-15</td>\n",
              "      <td>I have to give credit where credit is due - GB Noodles is the restaurant that made me a noodle-s...</td>\n",
              "    </tr>\n",
              "    <tr>\n",
              "      <th>1861</th>\n",
              "      <td>Artisan Plus</td>\n",
              "      <td>3</td>\n",
              "      <td>2019-09-03</td>\n",
              "      <td>Artisan Plus received a great amount of hype upon opening on IG and I've been waiting to try it ...</td>\n",
              "    </tr>\n",
              "    <tr>\n",
              "      <th>1028</th>\n",
              "      <td>Nodo Restaurant</td>\n",
              "      <td>3</td>\n",
              "      <td>2018-06-24</td>\n",
              "      <td>For such a charming looking restaurant with high ratings, I had big hopes for Nodo. I loved the ...</td>\n",
              "    </tr>\n",
              "    <tr>\n",
              "      <th>1821</th>\n",
              "      <td>Asian Legend</td>\n",
              "      <td>3</td>\n",
              "      <td>2017-12-11</td>\n",
              "      <td>We had a team member who was leaving work to pursue his dream job and we took him out for lunch....</td>\n",
              "    </tr>\n",
              "    <tr>\n",
              "      <th>1352</th>\n",
              "      <td>Khao San Road</td>\n",
              "      <td>3</td>\n",
              "      <td>2019-06-23</td>\n",
              "      <td>Food: 4/5\\nService: 3.5/5\\nDecor: 3/5\\nPrice: 4/5\\n\\nSmall and quaint. When entering there was a...</td>\n",
              "    </tr>\n",
              "    <tr>\n",
              "      <th>1451</th>\n",
              "      <td>Hong Kong Bistro Cafe</td>\n",
              "      <td>4</td>\n",
              "      <td>2018-04-22</td>\n",
              "      <td>Revisiting Hong Kong Bistro Cafe after their renovation, it was like a totally new experience. T...</td>\n",
              "    </tr>\n",
              "    <tr>\n",
              "      <th>1162</th>\n",
              "      <td>Dimmi Bar &amp; Trattoria</td>\n",
              "      <td>4</td>\n",
              "      <td>2018-12-31</td>\n",
              "      <td>If you're on a diet, you shouldn't even be looking at this place. You can have a water. \\n\\nThis...</td>\n",
              "    </tr>\n",
              "    <tr>\n",
              "      <th>576</th>\n",
              "      <td>Los Guaca-Moles</td>\n",
              "      <td>4</td>\n",
              "      <td>2018-04-29</td>\n",
              "      <td>My boyfriend and I came here on Friday and had a really positive experience. We stopped in after...</td>\n",
              "    </tr>\n",
              "    <tr>\n",
              "      <th>1617</th>\n",
              "      <td>Yummy Yummy Dumplings</td>\n",
              "      <td>4</td>\n",
              "      <td>2019-12-19</td>\n",
              "      <td>I've been on a dumpling craze for a while and I finally found a place I absolutely love.\\n\\nYumm...</td>\n",
              "    </tr>\n",
              "    <tr>\n",
              "      <th>1414</th>\n",
              "      <td>DaiLo</td>\n",
              "      <td>4</td>\n",
              "      <td>2020-01-07</td>\n",
              "      <td>DaiLo was recommended to me by a Toronto local and albeit the pricey small portions, I'm glad I ...</td>\n",
              "    </tr>\n",
              "    <tr>\n",
              "      <th>1013</th>\n",
              "      <td>Nodo Restaurant</td>\n",
              "      <td>5</td>\n",
              "      <td>2020-05-05</td>\n",
              "      <td>Hands down one of the best Italian restaurants in the city. Wonderful service upon pick up and j...</td>\n",
              "    </tr>\n",
              "    <tr>\n",
              "      <th>205</th>\n",
              "      <td>El Nahual Tacos</td>\n",
              "      <td>5</td>\n",
              "      <td>2019-05-21</td>\n",
              "      <td>Love these tacos. So delicious. I have no other words other than yum. They make their tortillas ...</td>\n",
              "    </tr>\n",
              "    <tr>\n",
              "      <th>481</th>\n",
              "      <td>Comal y Canela</td>\n",
              "      <td>5</td>\n",
              "      <td>2019-12-27</td>\n",
              "      <td>I have nothing to add. The food here is superb, in particular the birria and carnitas. Tacos, na...</td>\n",
              "    </tr>\n",
              "    <tr>\n",
              "      <th>823</th>\n",
              "      <td>Trattoria Taverniti</td>\n",
              "      <td>5</td>\n",
              "      <td>2018-08-14</td>\n",
              "      <td>Went with my friend out and we found this place.\\nI thought it will be closed cause of the yelp ...</td>\n",
              "    </tr>\n",
              "    <tr>\n",
              "      <th>751</th>\n",
              "      <td>Enoteca Sociale</td>\n",
              "      <td>5</td>\n",
              "      <td>2017-05-01</td>\n",
              "      <td>Great place for a date. Romantic/rustic decor and a small menu gives room for care in every dish...</td>\n",
              "    </tr>\n",
              "  </tbody>\n",
              "</table>\n",
              "</div>\n",
              "      <button class=\"colab-df-convert\" onclick=\"convertToInteractive('df-0dee43d5-4e89-4c40-82ff-b36ba6d74a17')\"\n",
              "              title=\"Convert this dataframe to an interactive table.\"\n",
              "              style=\"display:none;\">\n",
              "        \n",
              "  <svg xmlns=\"http://www.w3.org/2000/svg\" height=\"24px\"viewBox=\"0 0 24 24\"\n",
              "       width=\"24px\">\n",
              "    <path d=\"M0 0h24v24H0V0z\" fill=\"none\"/>\n",
              "    <path d=\"M18.56 5.44l.94 2.06.94-2.06 2.06-.94-2.06-.94-.94-2.06-.94 2.06-2.06.94zm-11 1L8.5 8.5l.94-2.06 2.06-.94-2.06-.94L8.5 2.5l-.94 2.06-2.06.94zm10 10l.94 2.06.94-2.06 2.06-.94-2.06-.94-.94-2.06-.94 2.06-2.06.94z\"/><path d=\"M17.41 7.96l-1.37-1.37c-.4-.4-.92-.59-1.43-.59-.52 0-1.04.2-1.43.59L10.3 9.45l-7.72 7.72c-.78.78-.78 2.05 0 2.83L4 21.41c.39.39.9.59 1.41.59.51 0 1.02-.2 1.41-.59l7.78-7.78 2.81-2.81c.8-.78.8-2.07 0-2.86zM5.41 20L4 18.59l7.72-7.72 1.47 1.35L5.41 20z\"/>\n",
              "  </svg>\n",
              "      </button>\n",
              "      \n",
              "  <style>\n",
              "    .colab-df-container {\n",
              "      display:flex;\n",
              "      flex-wrap:wrap;\n",
              "      gap: 12px;\n",
              "    }\n",
              "\n",
              "    .colab-df-convert {\n",
              "      background-color: #E8F0FE;\n",
              "      border: none;\n",
              "      border-radius: 50%;\n",
              "      cursor: pointer;\n",
              "      display: none;\n",
              "      fill: #1967D2;\n",
              "      height: 32px;\n",
              "      padding: 0 0 0 0;\n",
              "      width: 32px;\n",
              "    }\n",
              "\n",
              "    .colab-df-convert:hover {\n",
              "      background-color: #E2EBFA;\n",
              "      box-shadow: 0px 1px 2px rgba(60, 64, 67, 0.3), 0px 1px 3px 1px rgba(60, 64, 67, 0.15);\n",
              "      fill: #174EA6;\n",
              "    }\n",
              "\n",
              "    [theme=dark] .colab-df-convert {\n",
              "      background-color: #3B4455;\n",
              "      fill: #D2E3FC;\n",
              "    }\n",
              "\n",
              "    [theme=dark] .colab-df-convert:hover {\n",
              "      background-color: #434B5C;\n",
              "      box-shadow: 0px 1px 3px 1px rgba(0, 0, 0, 0.15);\n",
              "      filter: drop-shadow(0px 1px 2px rgba(0, 0, 0, 0.3));\n",
              "      fill: #FFFFFF;\n",
              "    }\n",
              "  </style>\n",
              "\n",
              "      <script>\n",
              "        const buttonEl =\n",
              "          document.querySelector('#df-0dee43d5-4e89-4c40-82ff-b36ba6d74a17 button.colab-df-convert');\n",
              "        buttonEl.style.display =\n",
              "          google.colab.kernel.accessAllowed ? 'block' : 'none';\n",
              "\n",
              "        async function convertToInteractive(key) {\n",
              "          const element = document.querySelector('#df-0dee43d5-4e89-4c40-82ff-b36ba6d74a17');\n",
              "          const dataTable =\n",
              "            await google.colab.kernel.invokeFunction('convertToInteractive',\n",
              "                                                     [key], {});\n",
              "          if (!dataTable) return;\n",
              "\n",
              "          const docLinkHtml = 'Like what you see? Visit the ' +\n",
              "            '<a target=\"_blank\" href=https://colab.research.google.com/notebooks/data_table.ipynb>data table notebook</a>'\n",
              "            + ' to learn more about interactive tables.';\n",
              "          element.innerHTML = '';\n",
              "          dataTable['output_type'] = 'display_data';\n",
              "          await google.colab.output.renderOutput(dataTable, element);\n",
              "          const docLink = document.createElement('div');\n",
              "          docLink.innerHTML = docLinkHtml;\n",
              "          element.appendChild(docLink);\n",
              "        }\n",
              "      </script>\n",
              "    </div>\n",
              "  </div>\n",
              "  "
            ]
          },
          "metadata": {},
          "execution_count": 112
        }
      ]
    },
    {
      "cell_type": "code",
      "source": [
        "\"\"\"\n",
        "Count adjetive and adverb\n",
        "Scale them to per 100 words\n",
        "Return a list of lists by score group)\n",
        "\"\"\"\n",
        "def expressiveness(i):\n",
        "  adj_adv = []\n",
        "  tokens = []\n",
        "  \n",
        "  for sentence in text.iloc[ratings[i]]['Review']:\n",
        "    doc = nlp(sentence)\n",
        "    expr_count = 0\n",
        "    for token in doc:\n",
        "      if token.pos_=='ADJ' or token.pos_=='ADV':\n",
        "        expr_count += 1\n",
        "    # adjective and adverb per 100 words\n",
        "    adj_adv.append(expr_count*100/len(doc))\n",
        "    tokens.append(len(doc))\n",
        "    \n",
        "  return np.array(adj_adv), np.array(tokens)\n",
        "  \n",
        "%time expr_scores = [expressiveness(x) for x in range(5)]"
      ],
      "metadata": {
        "colab": {
          "base_uri": "https://localhost:8080/"
        },
        "id": "J0D2bzUp4AOW",
        "outputId": "c74ffc03-413d-4337-822b-9ffe1b569196"
      },
      "execution_count": null,
      "outputs": [
        {
          "output_type": "stream",
          "name": "stdout",
          "text": [
            "CPU times: user 1min 12s, sys: 754 ms, total: 1min 13s\n",
            "Wall time: 1min 24s\n"
          ]
        }
      ]
    },
    {
      "cell_type": "code",
      "source": [
        "# Average of Adjectives and Adverbs \n",
        "adj_adv_average = [round(adj_adv[0].mean(), 1) for adj_adv in expr_scores]\n",
        "length_average = [round(adj_adv[1].mean(), 1) for adj_adv in expr_scores]\n",
        "\n",
        "pd.DataFrame({'ADJ/ADV_per_100': adj_adv_average,\n",
        "              'Sentence_Length': length_average}, index=np.arange(1,6))"
      ],
      "metadata": {
        "colab": {
          "base_uri": "https://localhost:8080/",
          "height": 206
        },
        "id": "Gkcuanof9T69",
        "outputId": "b31ddf87-2e44-4d20-b426-01f3682b2df5"
      },
      "execution_count": null,
      "outputs": [
        {
          "output_type": "execute_result",
          "data": {
            "text/plain": [
              "   ADJ/ADV_per_100  Sentence_Length\n",
              "1             14.5            174.2\n",
              "2             15.6            165.3\n",
              "3             15.8            181.2\n",
              "4             16.6            166.8\n",
              "5             16.3            136.2"
            ],
            "text/html": [
              "\n",
              "  <div id=\"df-7e3ce1dc-b4ab-40bf-9871-7a3e91251785\">\n",
              "    <div class=\"colab-df-container\">\n",
              "      <div>\n",
              "<style scoped>\n",
              "    .dataframe tbody tr th:only-of-type {\n",
              "        vertical-align: middle;\n",
              "    }\n",
              "\n",
              "    .dataframe tbody tr th {\n",
              "        vertical-align: top;\n",
              "    }\n",
              "\n",
              "    .dataframe thead th {\n",
              "        text-align: right;\n",
              "    }\n",
              "</style>\n",
              "<table border=\"1\" class=\"dataframe\">\n",
              "  <thead>\n",
              "    <tr style=\"text-align: right;\">\n",
              "      <th></th>\n",
              "      <th>ADJ/ADV_per_100</th>\n",
              "      <th>Sentence_Length</th>\n",
              "    </tr>\n",
              "  </thead>\n",
              "  <tbody>\n",
              "    <tr>\n",
              "      <th>1</th>\n",
              "      <td>14.5</td>\n",
              "      <td>174.2</td>\n",
              "    </tr>\n",
              "    <tr>\n",
              "      <th>2</th>\n",
              "      <td>15.6</td>\n",
              "      <td>165.3</td>\n",
              "    </tr>\n",
              "    <tr>\n",
              "      <th>3</th>\n",
              "      <td>15.8</td>\n",
              "      <td>181.2</td>\n",
              "    </tr>\n",
              "    <tr>\n",
              "      <th>4</th>\n",
              "      <td>16.6</td>\n",
              "      <td>166.8</td>\n",
              "    </tr>\n",
              "    <tr>\n",
              "      <th>5</th>\n",
              "      <td>16.3</td>\n",
              "      <td>136.2</td>\n",
              "    </tr>\n",
              "  </tbody>\n",
              "</table>\n",
              "</div>\n",
              "      <button class=\"colab-df-convert\" onclick=\"convertToInteractive('df-7e3ce1dc-b4ab-40bf-9871-7a3e91251785')\"\n",
              "              title=\"Convert this dataframe to an interactive table.\"\n",
              "              style=\"display:none;\">\n",
              "        \n",
              "  <svg xmlns=\"http://www.w3.org/2000/svg\" height=\"24px\"viewBox=\"0 0 24 24\"\n",
              "       width=\"24px\">\n",
              "    <path d=\"M0 0h24v24H0V0z\" fill=\"none\"/>\n",
              "    <path d=\"M18.56 5.44l.94 2.06.94-2.06 2.06-.94-2.06-.94-.94-2.06-.94 2.06-2.06.94zm-11 1L8.5 8.5l.94-2.06 2.06-.94-2.06-.94L8.5 2.5l-.94 2.06-2.06.94zm10 10l.94 2.06.94-2.06 2.06-.94-2.06-.94-.94-2.06-.94 2.06-2.06.94z\"/><path d=\"M17.41 7.96l-1.37-1.37c-.4-.4-.92-.59-1.43-.59-.52 0-1.04.2-1.43.59L10.3 9.45l-7.72 7.72c-.78.78-.78 2.05 0 2.83L4 21.41c.39.39.9.59 1.41.59.51 0 1.02-.2 1.41-.59l7.78-7.78 2.81-2.81c.8-.78.8-2.07 0-2.86zM5.41 20L4 18.59l7.72-7.72 1.47 1.35L5.41 20z\"/>\n",
              "  </svg>\n",
              "      </button>\n",
              "      \n",
              "  <style>\n",
              "    .colab-df-container {\n",
              "      display:flex;\n",
              "      flex-wrap:wrap;\n",
              "      gap: 12px;\n",
              "    }\n",
              "\n",
              "    .colab-df-convert {\n",
              "      background-color: #E8F0FE;\n",
              "      border: none;\n",
              "      border-radius: 50%;\n",
              "      cursor: pointer;\n",
              "      display: none;\n",
              "      fill: #1967D2;\n",
              "      height: 32px;\n",
              "      padding: 0 0 0 0;\n",
              "      width: 32px;\n",
              "    }\n",
              "\n",
              "    .colab-df-convert:hover {\n",
              "      background-color: #E2EBFA;\n",
              "      box-shadow: 0px 1px 2px rgba(60, 64, 67, 0.3), 0px 1px 3px 1px rgba(60, 64, 67, 0.15);\n",
              "      fill: #174EA6;\n",
              "    }\n",
              "\n",
              "    [theme=dark] .colab-df-convert {\n",
              "      background-color: #3B4455;\n",
              "      fill: #D2E3FC;\n",
              "    }\n",
              "\n",
              "    [theme=dark] .colab-df-convert:hover {\n",
              "      background-color: #434B5C;\n",
              "      box-shadow: 0px 1px 3px 1px rgba(0, 0, 0, 0.15);\n",
              "      filter: drop-shadow(0px 1px 2px rgba(0, 0, 0, 0.3));\n",
              "      fill: #FFFFFF;\n",
              "    }\n",
              "  </style>\n",
              "\n",
              "      <script>\n",
              "        const buttonEl =\n",
              "          document.querySelector('#df-7e3ce1dc-b4ab-40bf-9871-7a3e91251785 button.colab-df-convert');\n",
              "        buttonEl.style.display =\n",
              "          google.colab.kernel.accessAllowed ? 'block' : 'none';\n",
              "\n",
              "        async function convertToInteractive(key) {\n",
              "          const element = document.querySelector('#df-7e3ce1dc-b4ab-40bf-9871-7a3e91251785');\n",
              "          const dataTable =\n",
              "            await google.colab.kernel.invokeFunction('convertToInteractive',\n",
              "                                                     [key], {});\n",
              "          if (!dataTable) return;\n",
              "\n",
              "          const docLinkHtml = 'Like what you see? Visit the ' +\n",
              "            '<a target=\"_blank\" href=https://colab.research.google.com/notebooks/data_table.ipynb>data table notebook</a>'\n",
              "            + ' to learn more about interactive tables.';\n",
              "          element.innerHTML = '';\n",
              "          dataTable['output_type'] = 'display_data';\n",
              "          await google.colab.output.renderOutput(dataTable, element);\n",
              "          const docLink = document.createElement('div');\n",
              "          docLink.innerHTML = docLinkHtml;\n",
              "          element.appendChild(docLink);\n",
              "        }\n",
              "      </script>\n",
              "    </div>\n",
              "  </div>\n",
              "  "
            ]
          },
          "metadata": {},
          "execution_count": 114
        }
      ]
    },
    {
      "cell_type": "markdown",
      "source": [
        "**Observation #1:**  sentence length seems to vary across ratings, however, the reviews with a rating of 5 had shorter sentences lengths than reviews with rating between 1 and 4\n",
        "\n",
        "**Observation #2:**  reviews with a rating of 1 didn't use as many adverbs and adjectives as other reviews, yet also had the high average sentence lengths on average - *long, less expressive sentences*\n",
        "\n",
        "**Observation #3:**  conversely, reviews with a rating of 5 had had the highest average adverbs and adjectives used and had the shortest sentences - *short, more expressive sentences - *(i.e. \"it was exceptionally great!!! absoluetly amazing!..) *"
      ],
      "metadata": {
        "id": "vS0O-QLp9ZM-"
      }
    },
    {
      "cell_type": "code",
      "source": [
        "# Visualize Adj/Adv Distribution\n",
        "plt.figure(figsize=(10,6))\n",
        "\n",
        "colors = ['red', 'blue', 'green', 'purple', 'yellow']\n",
        "labels=['rating 1', 'rating 2', 'rating 3', 'rating 4', 'rating 5']\n",
        "for i in range(5):\n",
        "  sns.kdeplot(expr_scores[i][0], color=colors[i], label=labels[i])\n",
        "  sns.rugplot(expr_scores[i][0])\n",
        "\n",
        "plt.title(\"Adjective and Adverb per 10 Words\")\n",
        "plt.xlim(-5, 45)\n",
        "plt.legend()\n",
        "plt.show()"
      ],
      "metadata": {
        "colab": {
          "base_uri": "https://localhost:8080/",
          "height": 408
        },
        "id": "VkeuYuMo_Kcw",
        "outputId": "2887c22a-4fd7-444e-c08b-714675bf0db0"
      },
      "execution_count": null,
      "outputs": [
        {
          "output_type": "display_data",
          "data": {
            "text/plain": [
              "<Figure size 720x432 with 1 Axes>"
            ],
            "image/png": "[encoded data removed]"
          },
          "metadata": {
            "needs_background": "light"
          }
        }
      ]
    },
    {
      "cell_type": "code",
      "source": [
        "# Shapiro Normality Test\n",
        "import scipy.stats as stats\n",
        "\n",
        "print(\"Shapiro's Normality Test\\n\")\n",
        "for i in range(5):\n",
        "  _, p = stats.shapiro(expr_scores[i][0])\n",
        "  print(\"- Score {}'s P-value: {:.3f}\".format(i+1, p))"
      ],
      "metadata": {
        "colab": {
          "base_uri": "https://localhost:8080/"
        },
        "id": "gsAiDbW6C_py",
        "outputId": "7f579c1f-3aed-48ca-dcf3-96abb3d0af98"
      },
      "execution_count": null,
      "outputs": [
        {
          "output_type": "stream",
          "name": "stdout",
          "text": [
            "Shapiro's Normality Test\n",
            "\n",
            "- Score 1's P-value: 0.000\n",
            "- Score 2's P-value: 0.000\n",
            "- Score 3's P-value: 0.000\n",
            "- Score 4's P-value: 0.000\n",
            "- Score 5's P-value: 0.000\n"
          ]
        }
      ]
    },
    {
      "metadata": {
        "id": "GfX0HGZqvKlz"
      },
      "cell_type": "markdown",
      "source": [
        "$$Shapiro's\\ Test\\ - \\ H_0: The\\ distribution\\ is\\ normal\\\\ vs.\\ H_1: The\\ distribution\\ is\\ not\\ normal$$\n",
        "<br>\n",
        "The 5 groups all look like a symmetric bell shape, but we still want to make sure of normality by using *Shapiro's Test*. According to the test, they are not normal, letting us conduct a non-parametric test; *Kruskal-Wallis test*. As seen below, the test shows that only the score 1 is different from the rest in how many adjectives and adverbs are used. Indeed, the score 1 (red) on the plot is slightly on the left.\n",
        "\n",
        "<br>\n",
        "$$Kruskal\\ Wallis\\ Test\\ - \\ H_0: The\\ groups\\ are\\ from\\ the\\ same\\ populations\\\\ vs.\\ H_1: At\\ least\\ one\\ of\\ the\\ groups\\ is\\ from\\ different\\ population$$"
      ]
    },
    {
      "cell_type": "markdown",
      "source": [
        "**Source:** Kim, K (2019) Amazon Food Review NLP (Version 1.0) [[Source code]](https://github.com/Q-shick/amazon_food_review_nlp/blob/master/amazon_food_review_nlp.ipynb). https://github.com/Q-shick/amazon_food_review_nlp"
      ],
      "metadata": {
        "id": "TuhzYIkgJnZM"
      }
    },
    {
      "cell_type": "code",
      "source": [
        "# Visualize Word Count Distribution \n",
        "plt.figure(figsize=(10,6))\n",
        "\n",
        "colors = ['red', 'blue', 'green', 'purple', 'yellow']\n",
        "labels=['score 1', 'score 2', 'score 3', 'score 4', 'score 5']\n",
        "for i in range(5):\n",
        "  sns.kdeplot(expr_scores[i][1], color=colors[i], label=labels[i])\n",
        "  sns.rugplot(expr_scores[i][1])\n",
        "\n",
        "plt.title(\"Review Word Count\")\n",
        "plt.xlim(-5, 1000)\n",
        "plt.legend()\n",
        "plt.show()"
      ],
      "metadata": {
        "colab": {
          "base_uri": "https://localhost:8080/",
          "height": 408
        },
        "id": "NOOwL1K5J4y5",
        "outputId": "130a2a96-43de-4db4-a080-3a109f0b92ec"
      },
      "execution_count": null,
      "outputs": [
        {
          "output_type": "display_data",
          "data": {
            "text/plain": [
              "<Figure size 720x432 with 1 Axes>"
            ],
            "image/png": "[encoded data removed]"
          },
          "metadata": {
            "needs_background": "light"
          }
        }
      ]
    },
    {
      "cell_type": "code",
      "source": [
        ""
      ],
      "metadata": {
        "id": "TkIoOdHkgCcM"
      },
      "execution_count": null,
      "outputs": []
    },
    {
      "cell_type": "markdown",
      "source": [
        "# Topic Analysis 📑"
      ],
      "metadata": {
        "id": "Tu_4CMXGyrlY"
      }
    },
    {
      "cell_type": "code",
      "source": [
        "# Install Packages\n",
        "from sklearn.decomposition import LatentDirichletAllocation\n",
        "from sklearn.feature_extraction.text import CountVectorizer\n",
        "#from sklearn.feature_extraction.text import TfidfVectorizer"
      ],
      "metadata": {
        "id": "jxYlkgkkKU__"
      },
      "execution_count": null,
      "outputs": []
    },
    {
      "cell_type": "code",
      "source": [
        "text.columns"
      ],
      "metadata": {
        "colab": {
          "base_uri": "https://localhost:8080/"
        },
        "id": "OAUEphQ0LZhK",
        "outputId": "5d452017-ddfa-463b-8ba1-d741d054506a"
      },
      "execution_count": null,
      "outputs": [
        {
          "output_type": "execute_result",
          "data": {
            "text/plain": [
              "Index(['Name', 'RatingValue', 'DatePublished', 'Review'], dtype='object')"
            ]
          },
          "metadata": {},
          "execution_count": 119
        }
      ]
    },
    {
      "cell_type": "markdown",
      "source": [
        "## Latent Dirichlet Allocation "
      ],
      "metadata": {
        "id": "Ay3admKfToG7"
      }
    },
    {
      "cell_type": "code",
      "source": [
        "# Latent Dirichlet Allocation \n",
        "\n",
        "def lda_extract(size, RatingValue, num_topic):\n",
        "  indice = text[text['RatingValue']==RatingValue].index\n",
        "  sentences = text.iloc[np.random.choice(indice, size, replace=True)]['Review']\n",
        "\n",
        "  vectorizer = CountVectorizer(max_df=.95, min_df=10, stop_words='english')\n",
        "  topic_sentences = vectorizer.fit_transform(sentences)\n",
        "\n",
        "  LDA = LatentDirichletAllocation(n_components=num_topic)\n",
        "  LDA.fit(topic_sentences)\n",
        "  \n",
        "  print(\"- Rating Value: \", RatingValue, \" Topics\")\n",
        "  for i, topic in enumerate(LDA.components_):\n",
        "    print(i+1, \":\", [vectorizer.get_feature_names()[j] for j \n",
        "          in topic.argsort()[-10:]])\n",
        "  print('\\n')"
      ],
      "metadata": {
        "id": "NFcDerEmLEDe"
      },
      "execution_count": null,
      "outputs": []
    },
    {
      "cell_type": "code",
      "source": [
        "for i in np.arange(1,6):\n",
        "  lda_extract(2000, i, 5)"
      ],
      "metadata": {
        "id": "bKEX2zMGLPvI"
      },
      "execution_count": null,
      "outputs": []
    },
    {
      "cell_type": "markdown",
      "source": [
        "All topics appear to be related to one another, including things like food, service, restaurant. "
      ],
      "metadata": {
        "id": "oQfltneZT4XD"
      }
    },
    {
      "cell_type": "markdown",
      "source": [
        "# Sentiment Analysis 🙃"
      ],
      "metadata": {
        "id": "p6XNnm_JKzab"
      }
    },
    {
      "metadata": {
        "outputId": "04972d39-70ae-44d1-d50b-44ecd8cf0100",
        "colab": {
          "base_uri": "https://localhost:8080/"
        },
        "id": "c2XNCKiYgZgE"
      },
      "cell_type": "code",
      "source": [
        "import nltk\n",
        "nltk.download('vader_lexicon')\n",
        "from nltk.sentiment.vader import SentimentIntensityAnalyzer"
      ],
      "execution_count": null,
      "outputs": [
        {
          "output_type": "stream",
          "name": "stderr",
          "text": [
            "[nltk_data] Downloading package vader_lexicon to /root/nltk_data...\n",
            "[nltk_data]   Package vader_lexicon is already up-to-date!\n"
          ]
        }
      ]
    },
    {
      "metadata": {
        "id": "xmcTU-yxgZgS"
      },
      "cell_type": "code",
      "source": [
        "sid = SentimentIntensityAnalyzer()\n",
        "\n",
        "ratings = random_pooling(text, 400)\n",
        "comp_ratings = [text.iloc[ratings[i]]['Review'].apply(lambda x:\n",
        "               sid.polarity_scores(x)['compound']) for i in range(5)]"
      ],
      "execution_count": null,
      "outputs": []
    },
    {
      "metadata": {
        "outputId": "578cb52c-7e6b-44c3-d0fe-4479f85d92d9",
        "colab": {
          "base_uri": "https://localhost:8080/",
          "height": 427
        },
        "id": "8X70R5f9gZgT"
      },
      "cell_type": "code",
      "source": [
        "colors = ['red', 'blue', 'green', 'purple', 'yellow']\n",
        "labels=['score 1', 'score 2', 'score 3', 'score 4', 'score 5']\n",
        "\n",
        "plt.figure(figsize=(10,6))\n",
        "plt.hist(comp_ratings, bins=11, color=colors, label=labels)\n",
        "plt.title(\"Sentiment Ratings\", fontsize=15)\n",
        "plt.xlabel(r\"$\\leftarrow\\ Negative\\ Positive\\ \\rightarrow$\", fontsize=12)\n",
        "plt.ylabel(\"200 Examples per Score\", fontsize=12)\n",
        "plt.xlim(-1,1)\n",
        "plt.legend()\n",
        "plt.show()"
      ],
      "execution_count": null,
      "outputs": [
        {
          "output_type": "display_data",
          "data": {
            "text/plain": [
              "<Figure size 720x432 with 1 Axes>"
            ],
            "image/png": "[encoded data removed]"
          },
          "metadata": {
            "needs_background": "light"
          }
        }
      ]
    },
    {
      "cell_type": "code",
      "source": [
        "pd.DataFrame({'label': text.iloc[np.array(ratings).flatten()]['RatingValue'],\n",
        "              'compound': np.array(comp_ratings).flatten()}).corr()"
      ],
      "metadata": {
        "colab": {
          "base_uri": "https://localhost:8080/",
          "height": 112
        },
        "id": "zKO3wDTygzBh",
        "outputId": "853d8a35-79b1-4a64-905a-f5f3c0d1e7b3"
      },
      "execution_count": null,
      "outputs": [
        {
          "output_type": "execute_result",
          "data": {
            "text/plain": [
              "             label  compound\n",
              "label     1.000000  0.602892\n",
              "compound  0.602892  1.000000"
            ],
            "text/html": [
              "\n",
              "  <div id=\"df-84b6a92e-70c3-4d79-b2ca-4497f1f0cf5a\">\n",
              "    <div class=\"colab-df-container\">\n",
              "      <div>\n",
              "<style scoped>\n",
              "    .dataframe tbody tr th:only-of-type {\n",
              "        vertical-align: middle;\n",
              "    }\n",
              "\n",
              "    .dataframe tbody tr th {\n",
              "        vertical-align: top;\n",
              "    }\n",
              "\n",
              "    .dataframe thead th {\n",
              "        text-align: right;\n",
              "    }\n",
              "</style>\n",
              "<table border=\"1\" class=\"dataframe\">\n",
              "  <thead>\n",
              "    <tr style=\"text-align: right;\">\n",
              "      <th></th>\n",
              "      <th>label</th>\n",
              "      <th>compound</th>\n",
              "    </tr>\n",
              "  </thead>\n",
              "  <tbody>\n",
              "    <tr>\n",
              "      <th>label</th>\n",
              "      <td>1.000000</td>\n",
              "      <td>0.602892</td>\n",
              "    </tr>\n",
              "    <tr>\n",
              "      <th>compound</th>\n",
              "      <td>0.602892</td>\n",
              "      <td>1.000000</td>\n",
              "    </tr>\n",
              "  </tbody>\n",
              "</table>\n",
              "</div>\n",
              "      <button class=\"colab-df-convert\" onclick=\"convertToInteractive('df-84b6a92e-70c3-4d79-b2ca-4497f1f0cf5a')\"\n",
              "              title=\"Convert this dataframe to an interactive table.\"\n",
              "              style=\"display:none;\">\n",
              "        \n",
              "  <svg xmlns=\"http://www.w3.org/2000/svg\" height=\"24px\"viewBox=\"0 0 24 24\"\n",
              "       width=\"24px\">\n",
              "    <path d=\"M0 0h24v24H0V0z\" fill=\"none\"/>\n",
              "    <path d=\"M18.56 5.44l.94 2.06.94-2.06 2.06-.94-2.06-.94-.94-2.06-.94 2.06-2.06.94zm-11 1L8.5 8.5l.94-2.06 2.06-.94-2.06-.94L8.5 2.5l-.94 2.06-2.06.94zm10 10l.94 2.06.94-2.06 2.06-.94-2.06-.94-.94-2.06-.94 2.06-2.06.94z\"/><path d=\"M17.41 7.96l-1.37-1.37c-.4-.4-.92-.59-1.43-.59-.52 0-1.04.2-1.43.59L10.3 9.45l-7.72 7.72c-.78.78-.78 2.05 0 2.83L4 21.41c.39.39.9.59 1.41.59.51 0 1.02-.2 1.41-.59l7.78-7.78 2.81-2.81c.8-.78.8-2.07 0-2.86zM5.41 20L4 18.59l7.72-7.72 1.47 1.35L5.41 20z\"/>\n",
              "  </svg>\n",
              "      </button>\n",
              "      \n",
              "  <style>\n",
              "    .colab-df-container {\n",
              "      display:flex;\n",
              "      flex-wrap:wrap;\n",
              "      gap: 12px;\n",
              "    }\n",
              "\n",
              "    .colab-df-convert {\n",
              "      background-color: #E8F0FE;\n",
              "      border: none;\n",
              "      border-radius: 50%;\n",
              "      cursor: pointer;\n",
              "      display: none;\n",
              "      fill: #1967D2;\n",
              "      height: 32px;\n",
              "      padding: 0 0 0 0;\n",
              "      width: 32px;\n",
              "    }\n",
              "\n",
              "    .colab-df-convert:hover {\n",
              "      background-color: #E2EBFA;\n",
              "      box-shadow: 0px 1px 2px rgba(60, 64, 67, 0.3), 0px 1px 3px 1px rgba(60, 64, 67, 0.15);\n",
              "      fill: #174EA6;\n",
              "    }\n",
              "\n",
              "    [theme=dark] .colab-df-convert {\n",
              "      background-color: #3B4455;\n",
              "      fill: #D2E3FC;\n",
              "    }\n",
              "\n",
              "    [theme=dark] .colab-df-convert:hover {\n",
              "      background-color: #434B5C;\n",
              "      box-shadow: 0px 1px 3px 1px rgba(0, 0, 0, 0.15);\n",
              "      filter: drop-shadow(0px 1px 2px rgba(0, 0, 0, 0.3));\n",
              "      fill: #FFFFFF;\n",
              "    }\n",
              "  </style>\n",
              "\n",
              "      <script>\n",
              "        const buttonEl =\n",
              "          document.querySelector('#df-84b6a92e-70c3-4d79-b2ca-4497f1f0cf5a button.colab-df-convert');\n",
              "        buttonEl.style.display =\n",
              "          google.colab.kernel.accessAllowed ? 'block' : 'none';\n",
              "\n",
              "        async function convertToInteractive(key) {\n",
              "          const element = document.querySelector('#df-84b6a92e-70c3-4d79-b2ca-4497f1f0cf5a');\n",
              "          const dataTable =\n",
              "            await google.colab.kernel.invokeFunction('convertToInteractive',\n",
              "                                                     [key], {});\n",
              "          if (!dataTable) return;\n",
              "\n",
              "          const docLinkHtml = 'Like what you see? Visit the ' +\n",
              "            '<a target=\"_blank\" href=https://colab.research.google.com/notebooks/data_table.ipynb>data table notebook</a>'\n",
              "            + ' to learn more about interactive tables.';\n",
              "          element.innerHTML = '';\n",
              "          dataTable['output_type'] = 'display_data';\n",
              "          await google.colab.output.renderOutput(dataTable, element);\n",
              "          const docLink = document.createElement('div');\n",
              "          docLink.innerHTML = docLinkHtml;\n",
              "          element.appendChild(docLink);\n",
              "        }\n",
              "      </script>\n",
              "    </div>\n",
              "  </div>\n",
              "  "
            ]
          },
          "metadata": {},
          "execution_count": 125
        }
      ]
    },
    {
      "cell_type": "markdown",
      "source": [
        "This tells us that sentiments are 63% correlated with scores."
      ],
      "metadata": {
        "id": "gPoLy0dahmUw"
      }
    },
    {
      "cell_type": "markdown",
      "source": [
        "## Named Entity Recognition"
      ],
      "metadata": {
        "id": "P1HFmVM0Yb42"
      }
    },
    {
      "cell_type": "code",
      "source": [
        "# Import Packages \n",
        "from collections import Counter\n",
        "\n",
        "text['RatingValue'].value_counts()\n",
        "\n",
        "min_len = len(text[text['RatingValue']==2])\n",
        "\n",
        "print(\"Before undersampling: classes -\", Counter(text['RatingValue']))\n",
        "undersampling_idx = random_pooling(text, min_len)\n",
        "text = text.iloc[np.array(undersampling_idx).flatten()]\n",
        "text.reset_index(drop=True, inplace=True)\n",
        "print(\"After undersampling: classes -\", Counter(text['RatingValue']))"
      ],
      "metadata": {
        "colab": {
          "base_uri": "https://localhost:8080/"
        },
        "id": "T6hg92LBYYxI",
        "outputId": "c152bff2-6d2f-4b64-d312-6cf447a180b0"
      },
      "execution_count": null,
      "outputs": [
        {
          "output_type": "stream",
          "name": "stdout",
          "text": [
            "Before undersampling: classes - Counter({5: 828, 4: 637, 3: 297, 2: 86, 1: 72})\n",
            "After undersampling: classes - Counter({1: 86, 2: 86, 3: 86, 4: 86, 5: 86})\n"
          ]
        }
      ]
    },
    {
      "cell_type": "code",
      "source": [
        "rand_idx = np.random.choice(text.index, 10)\n",
        "entities_10_sentences = nlp(' '.join(text.iloc[rand_idx]['Review']))\n",
        "displacy.render(entities_10_sentences, style='ent', jupyter=True)"
      ],
      "metadata": {
        "id": "wVmpZNFMacZJ"
      },
      "execution_count": null,
      "outputs": []
    },
    {
      "cell_type": "code",
      "source": [
        "rand_idx = np.random.choice(text.index, 100)\n",
        "entities_100_sentences = nlp(' '.join(text.iloc[rand_idx]['Review']))\n",
        "labels = [x.label_ for x in entities_100_sentences.ents]\n",
        "\n",
        "print(\"Named Entities\")\n",
        "pprint(Counter(labels))"
      ],
      "metadata": {
        "id": "ZxAei4SGawOb"
      },
      "execution_count": null,
      "outputs": []
    },
    {
      "cell_type": "markdown",
      "source": [
        "# Organize Train and Test Sets 🧹 "
      ],
      "metadata": {
        "id": "kKk-oitrYAf8"
      }
    },
    {
      "cell_type": "code",
      "source": [
        "# Create Sentiment Bin \n",
        "# Using the right= argument to modify binning behavior\n",
        "\n",
        "df['Sentiments'] = pd.cut(\n",
        "    text['RatingValue'], \n",
        "    [1, 2, 3, 6], \n",
        "    labels=['0', '1', '2'],\n",
        "    right=False\n",
        ")\n",
        "\n",
        "sentiments_df = pd.DataFrame(data = df['Sentiments'])\n",
        "sentiments_df.rename(columns={'RatingValue': 'Sentiments'}, inplace=True)\n",
        "\n",
        "print(sentiments_df.describe)"
      ],
      "metadata": {
        "id": "bJRhqxWajB4e"
      },
      "execution_count": null,
      "outputs": []
    },
    {
      "cell_type": "code",
      "source": [
        "text_df = pd.DataFrame(data = text['Review'])\n",
        "text_df"
      ],
      "metadata": {
        "id": "trzCV3mfqz3E"
      },
      "execution_count": null,
      "outputs": []
    },
    {
      "cell_type": "code",
      "source": [
        "# Clean Data \n",
        "\n",
        "reviews_df = pd.concat([sentiments_df, text_df], axis = 1)\n",
        "print(reviews_df)"
      ],
      "metadata": {
        "id": "QpBMqZDgILm1"
      },
      "execution_count": null,
      "outputs": []
    },
    {
      "cell_type": "code",
      "source": [
        "reviews_df.shape"
      ],
      "metadata": {
        "id": "0vBd0BWlIhH1"
      },
      "execution_count": null,
      "outputs": []
    },
    {
      "cell_type": "markdown",
      "source": [
        "# Text Pre-Processing 💻"
      ],
      "metadata": {
        "id": "LKsT-2WjyiOZ"
      }
    },
    {
      "cell_type": "code",
      "source": [
        "# Text Pre-Processing - Tokenize Words\n",
        "reviews_df['Review'] = reviews_df['Review'].apply(str)\n",
        "\n",
        "corpus = \" \".join(reviews_df['Review'].tolist())\n",
        "tokens = word_tokenize(corpus)\n",
        "\n",
        "# Get Speech Tags\n",
        "answer = nltk.pos_tag(tokens)\n",
        "answer_pos = [a[1] for a in answer]\n",
        "\n",
        "# Print Value Counts for Speech Tags \n",
        "all_pos = pd.Series(answer_pos)\n",
        "all_pos.value_counts().head()"
      ],
      "metadata": {
        "id": "8WBROjDwszXz"
      },
      "execution_count": null,
      "outputs": []
    },
    {
      "cell_type": "code",
      "source": [
        "# get the top words\n",
        "token_corpus = nltk.word_tokenize(corpus)\n",
        "freq_dist = nltk.FreqDist(token_corpus)\n",
        "\n",
        "top_words = []\n",
        "for key, value in freq_dist.items():\n",
        "    top_words.append((key, value))\n",
        "\n",
        "# sort the list by the top frequencies\n",
        "top_words = sorted(top_words, key = lambda x:x[1], reverse = True)\n",
        "\n",
        "# keep top 100 words only\n",
        "top_words = top_words[:10]\n",
        "\n",
        "# Keep the frequencies only from the top word series\n",
        "top_word_series = pd.Series([w for (v,w) in top_words])\n",
        "top_word_series[:5]\n",
        "\n",
        "# get actual ranks of these words - wherever we see same frequencies, we give same rank\n",
        "word_ranks = top_word_series.rank(method = 'min', ascending = False)\n",
        "\n",
        "top_words"
      ],
      "metadata": {
        "id": "-KAeAHz1s-io"
      },
      "execution_count": null,
      "outputs": []
    },
    {
      "cell_type": "code",
      "source": [
        "# Check for Null Values \n",
        "reviews_df.isnull().sum()"
      ],
      "metadata": {
        "colab": {
          "base_uri": "https://localhost:8080/"
        },
        "id": "8hINKD0Eveck",
        "outputId": "ca3a7963-cc9e-48f3-c745-0832bffe6d9f"
      },
      "execution_count": null,
      "outputs": [
        {
          "output_type": "execute_result",
          "data": {
            "text/plain": [
              "Sentiments    0\n",
              "Review        0\n",
              "dtype: int64"
            ]
          },
          "metadata": {},
          "execution_count": 222
        }
      ]
    },
    {
      "cell_type": "code",
      "source": [
        "# Split Test and Train Sets \n",
        "X = reviews_df['Review']\n",
        "y = reviews_df['Sentiments']\n",
        "\n",
        "X_train, X_test, y_train, y_test = train_test_split(\n",
        "    X, y, test_size=.2\n",
        ")\n",
        "\n",
        "print(X_train.shape)\n",
        "\n",
        "print(X_test.shape)\n",
        "\n",
        "print(y_train.shape)\n",
        "\n",
        "print(y_test.shape)"
      ],
      "metadata": {
        "colab": {
          "base_uri": "https://localhost:8080/"
        },
        "id": "OTaJtUWle8CT",
        "outputId": "fcb99755-6953-4744-d0bb-0a35be42d677"
      },
      "execution_count": null,
      "outputs": [
        {
          "output_type": "stream",
          "name": "stdout",
          "text": [
            "(344,)\n",
            "(86,)\n",
            "(344,)\n",
            "(86,)\n"
          ]
        }
      ]
    },
    {
      "cell_type": "code",
      "source": [
        "# Save Results \n",
        "%%time\n",
        "\n",
        "def remove_ner(sent):\n",
        "  doc = nlp(sent)\n",
        "  ner_idx = [(ent.start_char, ent.end_char) for ent in doc.ents]\n",
        "\n",
        "  if ner_idx: # if not empty\n",
        "    ner_removed = \"\"\n",
        "    ner_len = len(ner_idx)-1\n",
        "    \n",
        "    ner_removed += sent[:ner_idx[0][0]]\n",
        "    for i in range(ner_len):\n",
        "      ner_removed += sent[ner_idx[i][1]+1 : ner_idx[i+1][0]]\n",
        "    ner_removed += sent[ner_idx[ner_len][1]+1:]\n",
        "    \n",
        "    return ner_removed\n",
        "    \n",
        "  else:\n",
        "    return sent\n",
        "  \n",
        "reviews_df['Review'] = reviews_df['Review'].apply(lambda x: remove_ner(x))"
      ],
      "metadata": {
        "colab": {
          "base_uri": "https://localhost:8080/"
        },
        "id": "j4pkYm1wcLeF",
        "outputId": "b5ab0e03-2b81-4dfa-c1ee-b81060fd01ff"
      },
      "execution_count": null,
      "outputs": [
        {
          "output_type": "stream",
          "name": "stdout",
          "text": [
            "CPU times: user 15.1 s, sys: 158 ms, total: 15.3 s\n",
            "Wall time: 16.4 s\n"
          ]
        }
      ]
    },
    {
      "cell_type": "markdown",
      "source": [
        "# Model Building 🛠"
      ],
      "metadata": {
        "id": "d_8CKOVJ9Wkh"
      }
    },
    {
      "cell_type": "code",
      "source": [
        "from pathlib import Path  \n",
        "train_data = pd.DataFrame(data = [X_train, y_train])\n",
        "filepath = Path('/content/drive/MyDrive/Grad School/MMAI Summer 2022/MMAI 5400 NLP/Assignment #2/train_data.csv')  \n",
        "filepath.parent.mkdir(parents=True, exist_ok=True)  \n",
        "train_data.to_csv(filepath) \n",
        "\n",
        "test_data = pd.DataFrame(data = [X_test, y_test])\n",
        "filepath = Path('/content/drive/MyDrive/Grad School/MMAI Summer 2022/MMAI 5400 NLP/Assignment #2/test_data.csv')  \n",
        "filepath.parent.mkdir(parents=True, exist_ok=True)  \n",
        "test_data.to_csv(filepath) "
      ],
      "metadata": {
        "id": "ivjJnP93wTYm"
      },
      "execution_count": null,
      "outputs": []
    },
    {
      "cell_type": "code",
      "source": [
        "# Download the cleaned file\n",
        "train_df = pd.read_csv('/content/drive/MyDrive/Grad School/MMAI Summer 2022/MMAI 5400 NLP/Assignment #2/train_data.csv')\n",
        "train_df = train_df.set_index('Unnamed: 0').T\n",
        "train_df\n",
        "\n",
        "test_df = pd.read_csv('/content/drive/MyDrive/Grad School/MMAI Summer 2022/MMAI 5400 NLP/Assignment #2/test_data.csv')\n",
        "test_df = test_df.set_index('Unnamed: 0').T\n",
        "test_df\n"
      ],
      "metadata": {
        "id": "aeVJt97Oerbk"
      },
      "execution_count": null,
      "outputs": []
    },
    {
      "cell_type": "code",
      "source": [
        "%%time \n",
        "\n",
        "vectorizer = TfidfVectorizer().fit(X_train)\n",
        "\n",
        "X_train_lr = vectorizer.transform(X_train)\n",
        "X_test_lr = vectorizer.transform(X_test)\n",
        "\n",
        "words_df = pd.DataFrame(X_test_lr.toarray(), columns=vectorizer.get_feature_names())\n",
        "\n",
        "print(words_df.head())\n",
        "\n",
        "print(\"Vectorized Words:\", X_train_lr.shape[1])"
      ],
      "metadata": {
        "id": "UitakJSaBN4L"
      },
      "execution_count": null,
      "outputs": []
    },
    {
      "cell_type": "markdown",
      "source": [
        "# Model Evaluation 🤨"
      ],
      "metadata": {
        "id": "PRUnZMRo9cKe"
      }
    },
    {
      "cell_type": "code",
      "source": [
        "from sklearn.linear_model import LinearRegression\n",
        "from sklearn.linear_model import LogisticRegression\n",
        "from sklearn.ensemble import RandomForestClassifier\n",
        "from sklearn.svm import LinearSVC\n",
        "from sklearn.naive_bayes import MultinomialNB"
      ],
      "metadata": {
        "id": "_fSZukCz6YXD"
      },
      "execution_count": null,
      "outputs": []
    },
    {
      "cell_type": "code",
      "source": [
        "%%time\n",
        "# Create and train a logistic regression\n",
        "lr = LogisticRegression(C=1e9, solver='lbfgs')\n",
        "lr.fit(X_train_lr, y_train)\n",
        "lr_pred = lr.predict(X_test_lr)"
      ],
      "metadata": {
        "colab": {
          "base_uri": "https://localhost:8080/"
        },
        "id": "eCtdPabGu2CA",
        "outputId": "ee1ce358-181a-4465-ef77-a92ce75260b8"
      },
      "execution_count": null,
      "outputs": [
        {
          "output_type": "stream",
          "name": "stdout",
          "text": [
            "CPU times: user 178 ms, sys: 244 ms, total: 422 ms\n",
            "Wall time: 315 ms\n"
          ]
        }
      ]
    },
    {
      "cell_type": "code",
      "source": [
        "%%time\n",
        "# Create and train a random forest classifier\n",
        "rf = RandomForestClassifier()\n",
        "rf.fit(X_train_lr, y_train)\n",
        "rf_pred = lr.predict(X_test_lr)"
      ],
      "metadata": {
        "colab": {
          "base_uri": "https://localhost:8080/"
        },
        "id": "ODp7MjIU67Ek",
        "outputId": "5e25b93d-8b3a-4292-b6e9-3ab6e178d29d"
      },
      "execution_count": null,
      "outputs": [
        {
          "output_type": "stream",
          "name": "stdout",
          "text": [
            "CPU times: user 427 ms, sys: 2.72 ms, total: 430 ms\n",
            "Wall time: 511 ms\n"
          ]
        }
      ]
    },
    {
      "cell_type": "code",
      "source": [
        "%%time\n",
        "# Create and train a linear support vector classifier (LinearSVC)\n",
        "svc = LinearSVC()\n",
        "svc.fit(X_train_lr, y_train)\n",
        "svc_pred = svc.predict(X_test_lr)"
      ],
      "metadata": {
        "colab": {
          "base_uri": "https://localhost:8080/"
        },
        "id": "-RANqr1t666c",
        "outputId": "5bc1c64b-adc2-4296-c0ed-c95f2aebfcf4"
      },
      "execution_count": null,
      "outputs": [
        {
          "output_type": "stream",
          "name": "stdout",
          "text": [
            "CPU times: user 16.9 ms, sys: 3.96 ms, total: 20.9 ms\n",
            "Wall time: 36.9 ms\n"
          ]
        }
      ]
    },
    {
      "cell_type": "code",
      "source": [
        "%%time\n",
        "# Create and train a multinomial naive bayes classifier (MultinomialNB)\n",
        "nb = MultinomialNB()\n",
        "nb.fit(X_train_lr, y_train)\n",
        "nb_pred = nb.predict(X_test_lr)"
      ],
      "metadata": {
        "colab": {
          "base_uri": "https://localhost:8080/"
        },
        "id": "RCap55kO7QtM",
        "outputId": "450779ae-7e8a-4a31-fd4f-72ab8d0446fe"
      },
      "execution_count": null,
      "outputs": [
        {
          "output_type": "stream",
          "name": "stdout",
          "text": [
            "CPU times: user 5.45 ms, sys: 0 ns, total: 5.45 ms\n",
            "Wall time: 9.97 ms\n"
          ]
        }
      ]
    },
    {
      "cell_type": "code",
      "source": [
        "# LR Model Results \n",
        "%%time\n",
        "from sklearn.metrics import confusion_matrix\n",
        "\n",
        "lr = LogisticRegression().fit(X_train_lr, y_train)\n",
        "pred = lr.predict(X_test_lr)\n",
        "\n",
        "print(\"Confusion Matrix\")\n",
        "print(metrics.confusion_matrix(y_test, pred))\n",
        "print('\\n')\n",
        "print(metrics.classification_report(y_test, pred))\n",
        "print(\"Accuracy:\", round(metrics.accuracy_score(y_test, pred), 2))\n",
        "print('\\n')"
      ],
      "metadata": {
        "id": "-YrKtSNQ8HrD"
      },
      "execution_count": null,
      "outputs": []
    },
    {
      "cell_type": "markdown",
      "source": [
        "# References \n",
        "Kim, K (2019) Amazon Food Review NLP (Version 1.0) [[Source code]](https://github.com/Q-shick/amazon_food_review_nlp/blob/master/amazon_food_review_nlp.ipynb). https://github.com/Q-shick/amazon_food_review_nlp"
      ],
      "metadata": {
        "id": "wFMOEoZ3jimy"
      }
    }
  ]
}